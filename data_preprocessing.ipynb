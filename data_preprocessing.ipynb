{
 "cells": [
  {
   "cell_type": "markdown",
   "metadata": {
    "id": "dlliBGhFfCY2"
   },
   "source": [
    "# Graph-based neural networks"
   ]
  },
  {
   "cell_type": "markdown",
   "metadata": {
    "id": "X96hgfA1e8y4"
   },
   "source": [
   ]
  },
  {
   "cell_type": "markdown",
   "metadata": {
    "id": "7sengh4frzPd"
   },
   "source": [
    "# Set-up"
   ]
  },
  {
   "cell_type": "code",
   "execution_count": 5,
   "metadata": {
    "colab": {
     "base_uri": "https://localhost:8080/"
    },
    "id": "nN6fTQxkdUO1",
    "outputId": "0c877d27-3ec7-4db6-aa47-f08a58d23104"
   },
   "outputs": [],
   "source": [
    "import networkx as nx\n",
    "from torch_geometric.utils.convert import to_networkx\n",
    "from torch_geometric.data import Dataset, InMemoryDataset, DataLoader, Data\n",
    "from torch_geometric.transforms import NormalizeFeatures, Compose, TargetIndegree\n",
    "from tqdm import tqdm\n",
    "import torch\n",
    "import re\n",
    "from datetime import datetime, timedelta\n",
    "import numpy as np\n",
    "import pandas as pd\n",
    "import matplotlib.cm as cm\n",
    "from matplotlib.lines import Line2D\n",
    "from matplotlib import pyplot as plt\n",
    "import matplotlib as mpl\n",
    "import seaborn as sns\n",
    "from IPython.display import display\n",
    "import torch\n",
    "import torch.nn as nn\n",
    "import torch.nn.functional as F\n",
    "import torch_geometric.nn as gnn\n",
    "import os.path as osp\n",
    "import os\n",
    "from IPython import display\n",
    "import time\n",
    "from sklearn.preprocessing import LabelEncoder, OneHotEncoder\n",
    "\n",
    "# For debugging memory leaks:\n",
    "import gc\n",
    "# fix random generator seed (for reproducibility of results)\n",
    "np.random.seed(42)\n",
    "# matplotlib options\n",
    "sns.set(color_codes=True)\n",
    "%matplotlib inline\n",
    "plt.style.use('ggplot')\n",
    "plt.rcParams['figure.figsize'] = (9, 6)\n",
    "#mpl.rcParams['agg.path.chunksize'] = 10000"
   ]
  },
  {
   "cell_type": "code",
   "execution_count": 6,
   "metadata": {
    "id": "Rc4PgvFX9qb5"
   },
   "outputs": [],
   "source": [
    "def plot_grad_flow(named_parameters):\n",
    "    '''Plots the gradients flowing through different layers in the net during training.\n",
    "    Can be used for checking for possible gradient vanishing / exploding problems.'''\n",
    "    \n",
    "    ave_grads = []\n",
    "    max_grads= []\n",
    "    layers = []\n",
    "    for n, p in named_parameters:\n",
    "        if(p.requires_grad) and (\"bias\" not in n):\n",
    "            layers.append(n)\n",
    "            ave_grads.append(p.grad.abs().mean())\n",
    "            max_grads.append(p.grad.abs().max())\n",
    "    plt.bar(np.arange(len(ave_grads)), ave_grads, alpha=1, lw=1, color=\"b\")\n",
    "    plt.bar(np.arange(len(max_grads)), max_grads, alpha=0.1, lw=1, color=\"c\")\n",
    "    print(\"avg grads {}\".format(ave_grads))\n",
    "    print(\"max grads {}\".format(max_grads))\n",
    "    plt.hlines(0, 0, len(ave_grads)+1, lw=2, color=\"k\" )\n",
    "    plt.xticks(range(0,len(ave_grads), 1), layers, rotation=\"vertical\")\n",
    "    plt.xlim(left=0, right=len(ave_grads))\n",
    "    plt.ylim([-0.001, 1])\n",
    "    plt.xlabel(\"Layers\")\n",
    "    plt.ylabel(\"average gradient\")\n",
    "    plt.title(\"Gradient flow, zoomed\")\n",
    "    plt.grid(True)\n",
    "    plt.legend([Line2D([0], [0], color=\"c\", lw=4),\n",
    "                Line2D([0], [0], color=\"b\", lw=4),\n",
    "                Line2D([0], [0], color=\"k\", lw=4)], ['max-gradient', 'mean-gradient', 'zero-gradient'])"
   ]
  },
  {
   "cell_type": "code",
   "execution_count": 7,
   "metadata": {
    "colab": {
     "base_uri": "https://localhost:8080/"
    },
    "id": "Q8-P1D7tPEhw",
    "outputId": "d624a501-8d49-46d2-faf8-538e3828c824"
   },
   "outputs": [],
   "source": [
    "path = \"./content/\""
   ]
  },
  {
   "cell_type": "markdown",
   "metadata": {
    "id": "bchLdRWbudAS"
   },
   "source": [
    "We now begin the loading and cleaning of the data."
   ]
  },
  {
   "cell_type": "markdown",
   "metadata": {
    "id": "E7XoKqKddUO7"
   },
   "source": [
    "# Load data"
   ]
  },
  {
   "cell_type": "code",
   "execution_count": 8,
   "metadata": {
    "id": "giVIr_X0dUO7"
   },
   "outputs": [],
   "source": [
    "df = pd.read_excel(\n",
    "     os.path.join(path+\"DTU - data til case_LTMZones1.xlsx\"),\n",
    "     engine='openpyxl',\n",
    ")\n"
   ]
  },
  {
   "cell_type": "markdown",
   "metadata": {
    "id": "hsjKXIw6ZJGe"
   },
   "source": [
    "Converting dates to datetime format"
   ]
  },
  {
   "cell_type": "code",
   "execution_count": 9,
   "metadata": {
    "id": "79miyrBYdUO8"
   },
   "outputs": [],
   "source": [
    "df[\"Reservationstidspunkt\"] = pd.to_datetime(df[\"Reservationstidspunkt\"], format=\"%Y-%m-%d %H:%M:%S\")\n",
    "df[\"Start tidspunkt\"] = pd.to_datetime(df[\"Start tidspunkt\"], format=\"%Y-%m-%d %H:%M:%S\")\n",
    "df[\"Slut tidspunkt\"] = pd.to_datetime(df[\"Slut tidspunkt\"], format=\"%Y-%m-%d %H:%M:%S\")\n",
    "df[\"date\"] = df[\"Start tidspunkt\"].dt.date"
   ]
  },
  {
   "cell_type": "markdown",
   "metadata": {
    "id": "B5HLcIoRZQJ-"
   },
   "source": [
    "Looking at the data below we see a number of data columns. We will only highlight the columns that are used. BilID is the unique ID for each car. We then have a start and end latitude/longitude, this is used to create the adjacency matrices of the graph, i.e. the matrix defining the edges between nodes of the graph. We have a start time and end time, this is the period where the car is in use and is defined by dates. Battery status might have an impact whether the car is being reserved or not, so it will be included. Finally, we will use the ZoneIDs indicating in which zone the car is located. The rest of the columns are assumed to not be of interest."
   ]
  },
  {
   "cell_type": "code",
   "execution_count": 10,
   "metadata": {
    "colab": {
     "base_uri": "https://localhost:8080/",
     "height": 194
    },
    "id": "0sidS59eWqbF",
    "outputId": "b5980da6-754d-4de6-f1d0-730ee0d21478"
   },
   "outputs": [
    {
     "data": {
      "text/html": [
       "<div>\n",
       "<style scoped>\n",
       "    .dataframe tbody tr th:only-of-type {\n",
       "        vertical-align: middle;\n",
       "    }\n",
       "\n",
       "    .dataframe tbody tr th {\n",
       "        vertical-align: top;\n",
       "    }\n",
       "\n",
       "    .dataframe thead th {\n",
       "        text-align: right;\n",
       "    }\n",
       "</style>\n",
       "<table border=\"1\" class=\"dataframe\">\n",
       "  <thead>\n",
       "    <tr style=\"text-align: right;\">\n",
       "      <th></th>\n",
       "      <th>TurID</th>\n",
       "      <th>BilID</th>\n",
       "      <th>PersonID</th>\n",
       "      <th>Latitude (Start)</th>\n",
       "      <th>Longitude (Start)</th>\n",
       "      <th>Latitude (Slut)</th>\n",
       "      <th>Longitude (Slut)</th>\n",
       "      <th>Reservationstidspunkt</th>\n",
       "      <th>Start tidspunkt</th>\n",
       "      <th>Slut tidspunkt</th>\n",
       "      <th>Alder</th>\n",
       "      <th>Køn</th>\n",
       "      <th>Batteristatus (start)</th>\n",
       "      <th>Batteristatus (slut)</th>\n",
       "      <th>Km kørt</th>\n",
       "      <th>FromZoneID</th>\n",
       "      <th>ToZoneID</th>\n",
       "      <th>date</th>\n",
       "    </tr>\n",
       "  </thead>\n",
       "  <tbody>\n",
       "    <tr>\n",
       "      <th>2</th>\n",
       "      <td>3</td>\n",
       "      <td>WBY1Z21070V307929</td>\n",
       "      <td>38610</td>\n",
       "      <td>55.6924</td>\n",
       "      <td>12.5831</td>\n",
       "      <td>55.7757</td>\n",
       "      <td>12.514</td>\n",
       "      <td>2017-07-31 07:28:38</td>\n",
       "      <td>2017-07-31 07:21:38</td>\n",
       "      <td>2017-08-01 12:49:44</td>\n",
       "      <td>21</td>\n",
       "      <td>M</td>\n",
       "      <td>0</td>\n",
       "      <td>0</td>\n",
       "      <td>19</td>\n",
       "      <td>102213</td>\n",
       "      <td>173051</td>\n",
       "      <td>2017-07-31</td>\n",
       "    </tr>\n",
       "    <tr>\n",
       "      <th>3</th>\n",
       "      <td>4</td>\n",
       "      <td>WBY1Z21040V307869</td>\n",
       "      <td>37425</td>\n",
       "      <td>55.6303</td>\n",
       "      <td>12.6489</td>\n",
       "      <td>55.7069</td>\n",
       "      <td>12.5871</td>\n",
       "      <td>2017-07-31 20:31:07</td>\n",
       "      <td>2017-07-31 20:31:07</td>\n",
       "      <td>2017-08-01 09:13:25</td>\n",
       "      <td>30</td>\n",
       "      <td>M</td>\n",
       "      <td>0</td>\n",
       "      <td>0</td>\n",
       "      <td>18</td>\n",
       "      <td>185203</td>\n",
       "      <td>102341</td>\n",
       "      <td>2017-07-31</td>\n",
       "    </tr>\n",
       "    <tr>\n",
       "      <th>4</th>\n",
       "      <td>5</td>\n",
       "      <td>WBY1Z21030V307877</td>\n",
       "      <td>24168</td>\n",
       "      <td>55.6936</td>\n",
       "      <td>12.5382</td>\n",
       "      <td>55.6775</td>\n",
       "      <td>12.4892</td>\n",
       "      <td>2017-07-31 20:48:30</td>\n",
       "      <td>2017-07-31 20:44:30</td>\n",
       "      <td>2017-08-01 08:52:43</td>\n",
       "      <td>28</td>\n",
       "      <td>M</td>\n",
       "      <td>0</td>\n",
       "      <td>0</td>\n",
       "      <td>5</td>\n",
       "      <td>102454</td>\n",
       "      <td>102771</td>\n",
       "      <td>2017-07-31</td>\n",
       "    </tr>\n",
       "    <tr>\n",
       "      <th>5</th>\n",
       "      <td>6</td>\n",
       "      <td>WBY1Z21090V308015</td>\n",
       "      <td>18497</td>\n",
       "      <td>55.7007</td>\n",
       "      <td>12.4734</td>\n",
       "      <td>55.6303</td>\n",
       "      <td>12.649</td>\n",
       "      <td>2017-07-31 21:11:52</td>\n",
       "      <td>2017-07-31 21:04:52</td>\n",
       "      <td>2017-08-01 04:28:55</td>\n",
       "      <td>42</td>\n",
       "      <td>M</td>\n",
       "      <td>0</td>\n",
       "      <td>0</td>\n",
       "      <td>28</td>\n",
       "      <td>102651</td>\n",
       "      <td>185203</td>\n",
       "      <td>2017-07-31</td>\n",
       "    </tr>\n",
       "    <tr>\n",
       "      <th>6</th>\n",
       "      <td>7</td>\n",
       "      <td>WBY1Z21070V308188</td>\n",
       "      <td>43226</td>\n",
       "      <td>55.68</td>\n",
       "      <td>12.5078</td>\n",
       "      <td>55.6925</td>\n",
       "      <td>12.505</td>\n",
       "      <td>2017-07-31 21:26:41</td>\n",
       "      <td>2017-07-31 21:25:41</td>\n",
       "      <td>2017-08-01 00:01:07</td>\n",
       "      <td>25</td>\n",
       "      <td>F</td>\n",
       "      <td>0</td>\n",
       "      <td>0</td>\n",
       "      <td>109</td>\n",
       "      <td>147234</td>\n",
       "      <td>102621</td>\n",
       "      <td>2017-07-31</td>\n",
       "    </tr>\n",
       "  </tbody>\n",
       "</table>\n",
       "</div>"
      ],
      "text/plain": [
       "   TurID              BilID  PersonID Latitude (Start) Longitude (Start)  \\\n",
       "2      3  WBY1Z21070V307929     38610          55.6924           12.5831   \n",
       "3      4  WBY1Z21040V307869     37425          55.6303           12.6489   \n",
       "4      5  WBY1Z21030V307877     24168          55.6936           12.5382   \n",
       "5      6  WBY1Z21090V308015     18497          55.7007           12.4734   \n",
       "6      7  WBY1Z21070V308188     43226            55.68           12.5078   \n",
       "\n",
       "  Latitude (Slut) Longitude (Slut) Reservationstidspunkt     Start tidspunkt  \\\n",
       "2         55.7757           12.514   2017-07-31 07:28:38 2017-07-31 07:21:38   \n",
       "3         55.7069          12.5871   2017-07-31 20:31:07 2017-07-31 20:31:07   \n",
       "4         55.6775          12.4892   2017-07-31 20:48:30 2017-07-31 20:44:30   \n",
       "5         55.6303           12.649   2017-07-31 21:11:52 2017-07-31 21:04:52   \n",
       "6         55.6925           12.505   2017-07-31 21:26:41 2017-07-31 21:25:41   \n",
       "\n",
       "       Slut tidspunkt  Alder Køn Batteristatus (start) Batteristatus (slut)  \\\n",
       "2 2017-08-01 12:49:44     21   M                     0                    0   \n",
       "3 2017-08-01 09:13:25     30   M                     0                    0   \n",
       "4 2017-08-01 08:52:43     28   M                     0                    0   \n",
       "5 2017-08-01 04:28:55     42   M                     0                    0   \n",
       "6 2017-08-01 00:01:07     25   F                     0                    0   \n",
       "\n",
       "   Km kørt  FromZoneID  ToZoneID        date  \n",
       "2       19      102213    173051  2017-07-31  \n",
       "3       18      185203    102341  2017-07-31  \n",
       "4        5      102454    102771  2017-07-31  \n",
       "5       28      102651    185203  2017-07-31  \n",
       "6      109      147234    102621  2017-07-31  "
      ]
     },
     "execution_count": 10,
     "metadata": {},
     "output_type": "execute_result"
    }
   ],
   "source": [
    "df.sort_values(\"Start tidspunkt\").head(5)"
   ]
  },
  {
   "cell_type": "markdown",
   "metadata": {
    "id": "SUnYhOnZ-nBW"
   },
   "source": [
    "Removing corrupt data, such as car IDs with \"-\". We don't remove ZoneIDs that are 0, we still have the latitude and longitude. We also do not remove km driven = 0, as trips might be $<1$ km, i.e. 100 meters, or perhaps the driver decided not to drive anyway, but still did a reservation. Battery status when zero is also removed as it makes no sense to have a battery status of 0 while driving several km's, and it is a rather limited amount of the data that are removed."
   ]
  },
  {
   "cell_type": "code",
   "execution_count": 11,
   "metadata": {
    "colab": {
     "base_uri": "https://localhost:8080/"
    },
    "id": "eyaIfw06emPg",
    "outputId": "f6b7d261-4e2a-4f22-abc2-37d4f60fb187"
   },
   "outputs": [
    {
     "name": "stdout",
     "output_type": "stream",
     "text": [
      "0\n"
     ]
    }
   ],
   "source": [
    "# Checking for NAs\n",
    "print(df.isna().sum().sum())\n",
    "# Removing all places where battery status = 0 for both start and end.\n",
    "df=df[((df[\"Batteristatus (start)\"]!=0)&(df[\"Batteristatus (slut)\"]!= 0))]\n",
    "# Removing invalid car ids:\n",
    "df=df[(df[\"BilID\"] != '-')]\n",
    "#We noticed a few data points with a battery status of -1. This could perhaps mean two things: Broken battery or a small bug\n",
    "# we assume it is a bug as the cars drive shortly after. We set these values to 0.\n",
    "df.loc[df[\"Batteristatus (slut)\"]<0,\"Batteristatus (slut)\"]=0"
   ]
  },
  {
   "cell_type": "markdown",
   "metadata": {
    "id": "MTZiMu3q97_p"
   },
   "source": [
    "# Basic descriptive statistics"
   ]
  },
  {
   "cell_type": "markdown",
   "metadata": {
    "id": "yaLdzft3OzAN"
   },
   "source": [
    "As seen we have quite a lot of data and around 280 days of tracking."
   ]
  },
  {
   "cell_type": "code",
   "execution_count": 12,
   "metadata": {
    "colab": {
     "base_uri": "https://localhost:8080/"
    },
    "id": "ds4p-qA_dUO8",
    "outputId": "1d23fbff-48ed-45f2-c9a6-bbf95dd149bd"
   },
   "outputs": [
    {
     "name": "stdout",
     "output_type": "stream",
     "text": [
      "Total transactions: 362925\n",
      "Total number of cars: 346\n",
      "Number of unique customers: 25317\n",
      "Period start: 2017-08-01\n",
      "Period end: 2018-05-08\n"
     ]
    }
   ],
   "source": [
    "print(\"Total transactions:\", len(df))\n",
    "print(\"Total number of cars:\", len(np.unique(df[\"BilID\"])))\n",
    "print(\"Number of unique customers:\", len(np.unique(df[\"PersonID\"])))\n",
    "print(\"Period start:\", df[\"date\"].min())\n",
    "print(\"Period end:\", df[\"date\"].max())"
   ]
  },
  {
   "cell_type": "code",
   "execution_count": 13,
   "metadata": {
    "colab": {
     "base_uri": "https://localhost:8080/",
     "height": 549
    },
    "id": "xfPCH6iQdUO9",
    "outputId": "556e1f53-de98-42ee-830c-d689b14586ad"
   },
   "outputs": [
    {
     "data": {
      "image/png": "[encoded data removed]",
      "text/plain": [
       "<Figure size 1152x576 with 2 Axes>"
      ]
     },
     "metadata": {},
     "output_type": "display_data"
    }
   ],
   "source": [
    "grouped = df.groupby(\"date\")[\"TurID\"].count()\n",
    "fig, ax = plt.subplots(1,2, figsize=(2*8, 1*8))\n",
    "ax[0].plot(grouped.index, grouped.values)\n",
    "ax[0].set_xlabel(\"Date\")\n",
    "ax[0].set_ylabel(\"Num. trips\")\n",
    "ax[0].set_title(\"Number of trips over time\")\n",
    "ax[0].xaxis.set_tick_params(rotation=45)\n",
    "ax[1].hist(df[\"Km kørt\"], bins=range(40))\n",
    "ax[1].set_title(\"Km driven\")\n",
    "ax[1].set_xlabel(\"Km\")\n",
    "ax[1].set_ylabel(\"Number of trips\")\n",
    "plt.show()\n"
   ]
  },
  {
   "cell_type": "markdown",
   "metadata": {
    "id": "xrT_13scbXAh"
   },
   "source": [
    "We see the customers mainly use DriveNow for smaller trips. We also see that the number of trips are increasing over time. Let us now look at number of trips for each zone. As some zones are very small there are almost no trips. Thus, we make zones bigger by dividing with 10."
   ]
  },
  {
   "cell_type": "code",
   "execution_count": 14,
   "metadata": {
    "id": "UzYwz86DZkyk"
   },
   "outputs": [],
   "source": [
    "# We make zones larger\n",
    "df[\"FromZoneID\"] = df[\"FromZoneID\"] // 10\n",
    "df[\"ToZoneID\"] = df[\"ToZoneID\"] // 10"
   ]
  },
  {
   "cell_type": "markdown",
   "metadata": {
    "id": "l1X1U3uJZlje"
   },
   "source": [
    "Looking at the plot below we see that there are still zones with very few cars. We will turn the zones with almost no cars into larger zones. To reduce dimensions when modelling the data."
   ]
  },
  {
   "cell_type": "code",
   "execution_count": 15,
   "metadata": {
    "colab": {
     "base_uri": "https://localhost:8080/",
     "height": 654
    },
    "id": "gqe_lLW7Y4ds",
    "outputId": "2e199c6f-bdfd-4527-c889-148cc26ad3a7"
   },
   "outputs": [
    {
     "data": {
      "text/plain": [
       "<AxesSubplot:xlabel='ToZoneID'>"
      ]
     },
     "execution_count": 15,
     "metadata": {},
     "output_type": "execute_result"
    },
    {
     "data": {
      "image/png": "[encoded data removed]",
      "text/plain": [
       "<Figure size 2160x720 with 1 Axes>"
      ]
     },
     "metadata": {},
     "output_type": "display_data"
    }
   ],
   "source": [
    "df.groupby([\"ToZoneID\"]).count()[\"BilID\"].plot.bar(figsize=(30,10),stacked=True)"
   ]
  },
  {
   "cell_type": "markdown",
   "metadata": {
    "id": "K8pw9tdlaQaC"
   },
   "source": [
    "All zones starting from 15 and up to 37 will be expanded."
   ]
  },
  {
   "cell_type": "code",
   "execution_count": 16,
   "metadata": {
    "id": "hT3FA7zOlA6d"
   },
   "outputs": [],
   "source": [
    "df_temp = df.copy()"
   ]
  },
  {
   "cell_type": "code",
   "execution_count": 17,
   "metadata": {
    "colab": {
     "base_uri": "https://localhost:8080/"
    },
    "id": "Nz6kU2_bckGo",
    "outputId": "1fdbb8bc-57de-4baa-ed33-46d15d9e59bd"
   },
   "outputs": [],
   "source": [
    "df.loc[df_temp[\"FromZoneID\"]>=15000,\"FromZoneID\"]=(df_temp.loc[df_temp[\"FromZoneID\"]>=15000,\"FromZoneID\"]//10)\n",
    "df.loc[df_temp[\"ToZoneID\"]>=15000,\"ToZoneID\"]=(df_temp.loc[df_temp[\"ToZoneID\"]>=15000,\"ToZoneID\"]//10)"
   ]
  },
  {
   "cell_type": "markdown",
   "metadata": {
    "id": "XYT23NgIkqH9"
   },
   "source": [
    "We make the decision that trips assigned zones with less than 10 observations is simply zone 0, this can be a biased decision, but with so few observations the zones only add to the complexity of the problem without adding much information."
   ]
  },
  {
   "cell_type": "code",
   "execution_count": 18,
   "metadata": {
    "id": "MRbFUCHlnOPs"
   },
   "outputs": [],
   "source": [
    "bool_zone = df.groupby([\"ToZoneID\"]).count()[\"BilID\"]<10\n",
    "zone_ids = (df.groupby([\"ToZoneID\"]).count()[\"BilID\"]<10)[bool_zone].index.values\n",
    "\n",
    "def fix_zone(x):\n",
    "  if x in zone_ids:\n",
    "    return 0\n",
    "  else:\n",
    "    return x\n",
    "\n",
    "df[\"ToZoneID\"]=df[\"ToZoneID\"].apply(fix_zone)\n",
    "\n",
    "bool_zone = df.groupby([\"FromZoneID\"]).count()[\"BilID\"]<10\n",
    "zone_ids = (df.groupby([\"FromZoneID\"]).count()[\"BilID\"]<10)[bool_zone].index.values\n",
    "df[\"FromZoneID\"]=df[\"FromZoneID\"].apply(fix_zone)"
   ]
  },
  {
   "cell_type": "code",
   "execution_count": 19,
   "metadata": {
    "colab": {
     "base_uri": "https://localhost:8080/",
     "height": 654
    },
    "id": "jgW_7gPSY6u3",
    "outputId": "82eb341b-599c-4309-ca49-5b483543ae0a"
   },
   "outputs": [
    {
     "data": {
      "text/plain": [
       "<AxesSubplot:xlabel='ToZoneID'>"
      ]
     },
     "execution_count": 19,
     "metadata": {},
     "output_type": "execute_result"
    },
    {
     "data": {
      "image/png": "[encoded data removed]",
      "text/plain": [
       "<Figure size 2160x720 with 1 Axes>"
      ]
     },
     "metadata": {},
     "output_type": "display_data"
    }
   ],
   "source": [
    "df.groupby([\"ToZoneID\"]).count()[\"BilID\"].plot.bar(figsize=(30,10),stacked=True)"
   ]
  },
  {
   "cell_type": "markdown",
   "metadata": {
    "id": "rJ7qpsqXoJ3O"
   },
   "source": [
    "The zones are looking better now and we will proceed with the data cleaning."
   ]
  },
  {
   "cell_type": "markdown",
   "metadata": {
    "id": "bx8WZF-WdUO9"
   },
   "source": [
    "# Process data and generate additional features\n",
    "In this section we add additional features to the data and process the data to make it eligible for graph-based modelling."
   ]
  },
  {
   "cell_type": "markdown",
   "metadata": {
    "id": "HiWCHXjQwXi2"
   },
   "source": [
    "### Generate average demand and supply for each zone (Credits: Filipe and Bojan, DTU management)\n",
    "We can find demand and supply by looking at the car fleet. Demand can be seen as the number of customers requesting a car at a specific time. Meanwhile the supply can be seen as the number of cars available."
   ]
  },
  {
   "cell_type": "code",
   "execution_count": 20,
   "metadata": {
    "id": "At9XpP6IdUO-"
   },
   "outputs": [],
   "source": [
    "#Get all zone ids and vehicle ids\n",
    "zone_ids = np.unique((df[\"FromZoneID\"] ).astype(np.int)).tolist()\n",
    "for z_id in np.unique((df[\"ToZoneID\"]  ).astype(np.int)).tolist():\n",
    "    if z_id not in zone_ids:\n",
    "        zone_ids.append(z_id)\n",
    "vehicle_ids = np.unique(df[\"BilID\"])"
   ]
  },
  {
   "cell_type": "code",
   "execution_count": 21,
   "metadata": {
    "colab": {
     "base_uri": "https://localhost:8080/"
    },
    "id": "Uo9JAYjJdUO-",
    "outputId": "fb0c12ab-b80e-4050-b9a0-3dbcf63ca0df",
    "scrolled": false
   },
   "outputs": [
    {
     "name": "stdout",
     "output_type": "stream",
     "text": [
      "100000 of 362925 rows processed for far...\n",
      "200000 of 362925 rows processed for far...\n",
      "300000 of 362925 rows processed for far...\n",
      "Done!\n"
     ]
    }
   ],
   "source": [
    "# sort trips by start time\n",
    "df_sorted = df.sort_values(\"Start tidspunkt\")\n",
    "\n",
    "n = 0\n",
    "start_date = datetime(2017, 8, 5) # ignore data before this datetime\n",
    "current_time = 0\n",
    "current_date = start_date.strftime(\"%Y-%m-%d %H:00\")\n",
    "dates_demand = {}\n",
    "demand = {}\n",
    "demand_temp = {z_id:0 for z_id in zone_ids}\n",
    "for ix, row in df_sorted.iterrows():\n",
    "    n += 1\n",
    "    if not n % 100000:\n",
    "        print(\"%d of %d rows processed for far...\" % (n, len(df)))\n",
    "    \n",
    "    # ignore invalid rows\n",
    "    if row[\"BilID\"] == '-':\n",
    "        continue\n",
    "    try:\n",
    "        start_lat = float(row[\"Latitude (Start)\"])\n",
    "        start_lng = float(row[\"Longitude (Start)\"])\n",
    "        end_lat = float(row[\"Latitude (Slut)\"])\n",
    "        end_lng = float(row[\"Longitude (Slut)\"])\n",
    "    except:\n",
    "        continue\n",
    "    \n",
    "    # skip the first days so that we can figure out the positions of all cars\n",
    "    if row[\"Start tidspunkt\"] < start_date:\n",
    "        continue\n",
    "    \n",
    "    # get current time bin (by hour)\n",
    "    time = int((row[\"Start tidspunkt\"] - start_date).total_seconds() / 60 / 60)\n",
    "    \n",
    "    if time != current_time: # if time bin (hour) has changed\n",
    "        \n",
    "        # save demand (note that this is the demand for the current time bin)\n",
    "        dates_demand[current_time] = current_date\n",
    "        demand[current_time] = demand_temp\n",
    "        \n",
    "        # reset variables\n",
    "        demand_temp = {z_id:0 for z_id in zone_ids}\n",
    "        current_time = time\n",
    "        current_date = row[\"Start tidspunkt\"].strftime(\"%Y-%m-%d %H:00\")\n",
    "        \n",
    "    # get origin and destination zones\n",
    "    origin_zone = int(int(row[\"FromZoneID\"]))\n",
    "    destination_zone = int(int(row[\"ToZoneID\"]))\n",
    "    \n",
    "    # update demand for corresponding zone\n",
    "    demand_temp[origin_zone] += 1\n",
    "\n",
    "print(\"Done!\")"
   ]
  },
  {
   "cell_type": "code",
   "execution_count": 22,
   "metadata": {
    "colab": {
     "base_uri": "https://localhost:8080/"
    },
    "id": "DFIZ2wqUDszv",
    "outputId": "90ad392a-cddb-4859-e494-a4bbaf81ddf6"
   },
   "outputs": [
    {
     "name": "stdout",
     "output_type": "stream",
     "text": [
      "100000 of 362925 rows processed for far...\n",
      "200000 of 362925 rows processed for far...\n",
      "300000 of 362925 rows processed for far...\n",
      "Done!\n"
     ]
    }
   ],
   "source": [
    "# sort trips by end time\n",
    "df_sorted = df.sort_values(\"Slut tidspunkt\")\n",
    "# keep track of all vehicles at every time step\n",
    "vehicle_pos = {v_id:None for v_id in vehicle_ids}\n",
    "vehicle_zone = {v_id:None for v_id in vehicle_ids}\n",
    "n = 0\n",
    "start_date = datetime(2017, 8, 5) # ignore data before this datetime\n",
    "current_time = 0\n",
    "current_date = start_date.strftime(\"%Y-%m-%d %H:00\")\n",
    "dates_supply = {}\n",
    "supply = {}\n",
    "for ix, row in df_sorted.iterrows():\n",
    "    n += 1\n",
    "    if not n % 100000:\n",
    "        print(\"%d of %d rows processed for far...\" % (n, len(df)))\n",
    "    \n",
    "    # ignore invalid rows\n",
    "    if row[\"BilID\"] == '-':\n",
    "        continue\n",
    "    try:\n",
    "        start_lat = float(row[\"Latitude (Start)\"])\n",
    "        start_lng = float(row[\"Longitude (Start)\"])\n",
    "        end_lat = float(row[\"Latitude (Slut)\"])\n",
    "        end_lng = float(row[\"Longitude (Slut)\"])\n",
    "    except:\n",
    "        continue\n",
    "    \n",
    "    # skip the first days so that we can figure out the positions of all cars\n",
    "    if row[\"Start tidspunkt\"] < start_date:\n",
    "        # save vehicle position for tracking\n",
    "        vehicle_pos[row[\"BilID\"]] = (end_lat, end_lng)\n",
    "        continue\n",
    "    \n",
    "    # get current time bin (by hour)\n",
    "    time = int((row[\"Slut tidspunkt\"] - start_date).total_seconds() / 60 / 60)\n",
    "    \n",
    "    if time != current_time: # if time bin (hour) has changed\n",
    "        # compute supply\n",
    "        supply_temp = {z_id:0 for z_id in zone_ids}\n",
    "        for v_id in vehicle_zone:\n",
    "            if vehicle_zone[v_id] != None:\n",
    "              supply_temp[vehicle_zone[v_id]] += 1\n",
    "        \n",
    "        # save supply (note that this will be supply for the next bin!)\n",
    "        dates_supply[current_time+1] = row[\"Slut tidspunkt\"].strftime(\"%Y-%m-%d %H:00\")\n",
    "        supply[current_time+1] = supply_temp\n",
    "        \n",
    "        # reset variables\n",
    "        current_time = time\n",
    "        current_date = row[\"Slut tidspunkt\"].strftime(\"%Y-%m-%d %H:00\")\n",
    "        \n",
    "    # get origin and destination zones\n",
    "    origin_zone = int(int(row[\"FromZoneID\"]) )\n",
    "    destination_zone = int(int(row[\"ToZoneID\"]) )\n",
    "    \n",
    "    # update vehicle position and zone in tracking\n",
    "    vehicle_pos[row[\"BilID\"]] = (end_lat, end_lng)\n",
    "    vehicle_zone[row[\"BilID\"]] = destination_zone\n",
    "\n",
    "print(\"Done!\")"
   ]
  },
  {
   "cell_type": "markdown",
   "metadata": {
    "id": "YveQLKsJPcri"
   },
   "source": [
    "Calculate the average demand and supply of each zone."
   ]
  },
  {
   "cell_type": "code",
   "execution_count": 23,
   "metadata": {
    "id": "aO_pf1NcQk0q"
   },
   "outputs": [],
   "source": [
    "avg_demand = {}\n",
    "for z_id in zone_ids:\n",
    "    demand_ts = [demand[t][z_id] for t in demand if t in supply.keys()]\n",
    "    mean_demand = np.mean(demand_ts)\n",
    "    avg_demand[str(z_id)] = mean_demand\n",
    "    if mean_demand < 1:\n",
    "        continue\n",
    "    #print(\"Zone: %d -> Avg. demand: %.1f\" % (z_id, mean_demand))\n",
    "  "
   ]
  },
  {
   "cell_type": "code",
   "execution_count": 24,
   "metadata": {
    "id": "XJCurBRwFq8-"
   },
   "outputs": [],
   "source": [
    "avg_supply = {}\n",
    "for z_id in zone_ids:\n",
    "    supply_ts = [supply[t][z_id] for t in supply if t in supply.keys()]\n",
    "    mean_supply = np.mean(supply_ts)\n",
    "    avg_supply[str(z_id)] = mean_supply\n",
    "    if mean_supply < 3:\n",
    "        continue\n",
    "    #print(\"Zone: %d -> Avg. supply: %.1f\" % (z_id, mean_supply))"
   ]
  },
  {
   "cell_type": "markdown",
   "metadata": {
    "id": "Vt7_YviyPh8x"
   },
   "source": [
    "Visualising an extreme case."
   ]
  },
  {
   "cell_type": "code",
   "execution_count": 25,
   "metadata": {
    "colab": {
     "base_uri": "https://localhost:8080/",
     "height": 304
    },
    "id": "NZNoPkZrGarm",
    "outputId": "491ebd06-aa85-44f4-ce45-903fbf113d41"
   },
   "outputs": [
    {
     "name": "stdout",
     "output_type": "stream",
     "text": [
      "Fraction of boundary cases: 0.037\n",
      "Fraction of problematic cases: 0.010\n"
     ]
    },
    {
     "data": {
      "image/png": "[encoded data removed]",
      "text/plain": [
       "<Figure size 648x432 with 1 Axes>"
      ]
     },
     "metadata": {},
     "output_type": "display_data"
    }
   ],
   "source": [
    "#Let's see an extreme case:\n",
    "zone_id = 10243\n",
    "demand_ts = [demand[t][zone_id] for t in demand if t in supply.keys()]\n",
    "supply_ts = [supply[t][zone_id] for t in demand if t in supply.keys()]\n",
    "print(\"Fraction of boundary cases: %.3f\" % (np.sum(np.array(demand_ts) == np.array(supply_ts)) / len(demand_ts)),)\n",
    "print(\"Fraction of problematic cases: %.3f\" % (np.sum(np.array(demand_ts) > np.array(supply_ts)) / len(demand_ts)),)\n",
    "plt.plot(demand_ts[:(24*7)], \"r-\")\n",
    "plt.plot(supply_ts[:(24*7)], \"b-\")\n",
    "plt.legend([\"demand\", \"supply\"], loc=\"upper left\")\n",
    "plt.show()"
   ]
  },
  {
   "cell_type": "markdown",
   "metadata": {
    "id": "G8WAKJALPkXI"
   },
   "source": [
    "We see the demand is a lot lower than the supply. This can be a problem as if there is too high a supply relative to demand, then the cars might be waiting a long time to be picked up."
   ]
  },
  {
   "cell_type": "code",
   "execution_count": 26,
   "metadata": {
    "colab": {
     "base_uri": "https://localhost:8080/"
    },
    "id": "GkLkC3NNkDdO",
    "outputId": "4b0c59c6-0ee5-4f89-e2bf-bf779433e559"
   },
   "outputs": [
    {
     "name": "stdout",
     "output_type": "stream",
     "text": [
      "Total cases: 596250\n",
      "Total missings: 900\n",
      "Total boundary cases: 97140 (16.3 perc.)\n",
      "Total problematic cases: 9829 (1.6 perc.)\n"
     ]
    }
   ],
   "source": [
    "# check fraction of cases in which demand is greater than (or equal to) the supply\n",
    "total_cases = 0\n",
    "boundary_cases = 0\n",
    "problem_cases = 0\n",
    "missings = 0\n",
    "for t in demand:\n",
    "    for z_id in zone_ids:\n",
    "        if t not in supply.keys():\n",
    "            missings += 1\n",
    "            continue\n",
    "        if demand[t][z_id] == supply[t][z_id]:\n",
    "            boundary_cases += 1\n",
    "        elif demand[t][z_id] > supply[t][z_id]:\n",
    "            problem_cases += 1\n",
    "        total_cases += 1\n",
    "\n",
    "print(\"Total cases:\", total_cases)\n",
    "print(\"Total missings:\", missings)\n",
    "print(\"Total boundary cases: %d (%.1f perc.)\" % (boundary_cases, 100.0*boundary_cases/total_cases))\n",
    "print(\"Total problematic cases: %d (%.1f perc.)\" % (problem_cases, 100.0*problem_cases/total_cases))"
   ]
  },
  {
   "cell_type": "markdown",
   "metadata": {
    "id": "8j87tghLPzWw"
   },
   "source": [
    "We add demand and supply to our dataframe as it might assist the model modelling the problem."
   ]
  },
  {
   "cell_type": "code",
   "execution_count": 27,
   "metadata": {
    "id": "iDZJPWmHNgJl"
   },
   "outputs": [],
   "source": [
    "# Adding demand to dataframe\n",
    "temp = pd.DataFrame.from_dict(avg_demand, orient='index').reset_index()\n",
    "temp.columns = [\"ToZoneID\", \"demand\"]\n",
    "temp.ToZoneID = pd.to_numeric(temp.ToZoneID)\n",
    "df= pd.merge(df, temp, left_on=['ToZoneID'], right_on=['ToZoneID'])"
   ]
  },
  {
   "cell_type": "code",
   "execution_count": 28,
   "metadata": {
    "id": "jnwzHo73Ij8W"
   },
   "outputs": [],
   "source": [
    "# Adding supply to dataframe\n",
    "temp = pd.DataFrame.from_dict(avg_supply, orient='index').reset_index()\n",
    "temp.columns = [\"ToZoneID\", \"supply\"]\n",
    "temp.ToZoneID = pd.to_numeric(temp.ToZoneID)\n",
    "df= pd.merge(df, temp, left_on=['ToZoneID'], right_on=['ToZoneID'])"
   ]
  },
  {
   "cell_type": "markdown",
   "metadata": {
    "id": "01aan-dsPqC2"
   },
   "source": [
    "### Adding hours, week days and season"
   ]
  },
  {
   "cell_type": "markdown",
   "metadata": {
    "id": "vb1ZYZeOP5R9"
   },
   "source": [
    "We are not modelling the temporal distribution, instead we add the hours and minutes, weekday, and the season, to see how they relate to the time until the car is picked up."
   ]
  },
  {
   "cell_type": "code",
   "execution_count": 29,
   "metadata": {
    "id": "3HG5Mq_7PoIy"
   },
   "outputs": [],
   "source": [
    "# Adding hour\n",
    "df[\"hour_drop_off\"]=df[\"Slut tidspunkt\"].dt.hour\n",
    "# Adding minutes\n",
    "df[\"minute_drop_off\"]=df[\"Slut tidspunkt\"].dt.minute\n",
    "# Adding weekday\n",
    "df[\"day_drop_off\"]=df[\"Slut tidspunkt\"].dt.weekday\n",
    "# Adding season\n",
    "def get_season(month):\n",
    "  season_list = [(\"winter\",(12, 12)),\n",
    "                 (\"spring\",(3, 5)),\n",
    "                 (\"summer\",(6, 8)),\n",
    "                 (\"autumn\",(9, 11)),\n",
    "                 (\"winter\",(1, 2)),\n",
    "                 ]\n",
    "  for season, (start, end) in season_list:\n",
    "    if start <= month <= end:\n",
    "      return season\n",
    "\n",
    "  print(\"No season was found\")\n",
    "  return None\n",
    "  \n",
    "df[\"season\"]=[get_season(month) for month in df[\"Slut tidspunkt\"].dt.month]\n",
    "    \n",
    "\n"
   ]
  },
  {
   "cell_type": "markdown",
   "metadata": {
    "id": "WD2WRB5LQKHN"
   },
   "source": [
    "### Adding target variables - Time until pickup"
   ]
  },
  {
   "cell_type": "markdown",
   "metadata": {
    "id": "zFwtVpRMQt7C"
   },
   "source": [
    "We now add the target value, time until pickup. It is simply calculated by the difference between the end time of a car trip and the start time of the cars' next trip."
   ]
  },
  {
   "cell_type": "code",
   "execution_count": 30,
   "metadata": {
    "id": "Htrvd3D_QNzs"
   },
   "outputs": [],
   "source": [
    "# Sorting values to calculate waiting times.\n",
    "df = df.sort_values([\"BilID\",\"Slut tidspunkt\"])\n",
    "# First we find all waiting times until pickup\n",
    "waiting_time = df[\"Start tidspunkt\"]-df.groupby(\"BilID\")[\"Slut tidspunkt\"].shift()\n",
    "# Remove NAs, reset indices to match\n",
    "waiting_time = waiting_time[waiting_time.isna() == False].reset_index(drop=True)\n",
    "# Removing last elements of each group. We do not know the waiting time until picked up for the last trip\n",
    "df_processed = df.copy()\n",
    "df_processed = df_processed.groupby(\"BilID\", group_keys=False).apply(lambda x: x.iloc[:-1]).reset_index(drop=True)\n",
    "# Storing\n",
    "df_processed[\"time_until_pickup\"] = waiting_time"
   ]
  },
  {
   "cell_type": "markdown",
   "metadata": {
    "id": "sYD_WwQtQ8F2"
   },
   "source": [
    "We now debug to check if any mishaps occured. We see we get a negative difference in time. This is not good, so we check the data and see that times are overlapping, 2017-10-04 20:56:46 to 2017-10-04 21:25:23 is contained within 2017-10-04 09:52:33 and 2017-10-05 03:01:23, but they are listed as two trips. This makes no sense, maybe a bug in the tracking."
   ]
  },
  {
   "cell_type": "code",
   "execution_count": 31,
   "metadata": {
    "colab": {
     "base_uri": "https://localhost:8080/",
     "height": 291
    },
    "id": "UwbRffpOS83p",
    "outputId": "0b6bdd4f-04ca-4c83-eb54-4f1792416c57"
   },
   "outputs": [
    {
     "name": "stdout",
     "output_type": "stream",
     "text": [
      "-1 days +12:27:10\n"
     ]
    },
    {
     "data": {
      "text/html": [
       "<div>\n",
       "<style scoped>\n",
       "    .dataframe tbody tr th:only-of-type {\n",
       "        vertical-align: middle;\n",
       "    }\n",
       "\n",
       "    .dataframe tbody tr th {\n",
       "        vertical-align: top;\n",
       "    }\n",
       "\n",
       "    .dataframe thead th {\n",
       "        text-align: right;\n",
       "    }\n",
       "</style>\n",
       "<table border=\"1\" class=\"dataframe\">\n",
       "  <thead>\n",
       "    <tr style=\"text-align: right;\">\n",
       "      <th></th>\n",
       "      <th>TurID</th>\n",
       "      <th>BilID</th>\n",
       "      <th>PersonID</th>\n",
       "      <th>Latitude (Start)</th>\n",
       "      <th>Longitude (Start)</th>\n",
       "      <th>Latitude (Slut)</th>\n",
       "      <th>Longitude (Slut)</th>\n",
       "      <th>Reservationstidspunkt</th>\n",
       "      <th>Start tidspunkt</th>\n",
       "      <th>Slut tidspunkt</th>\n",
       "      <th>...</th>\n",
       "      <th>FromZoneID</th>\n",
       "      <th>ToZoneID</th>\n",
       "      <th>date</th>\n",
       "      <th>demand</th>\n",
       "      <th>supply</th>\n",
       "      <th>hour_drop_off</th>\n",
       "      <th>minute_drop_off</th>\n",
       "      <th>day_drop_off</th>\n",
       "      <th>season</th>\n",
       "      <th>time_until_pickup</th>\n",
       "    </tr>\n",
       "  </thead>\n",
       "  <tbody>\n",
       "    <tr>\n",
       "      <th>192713</th>\n",
       "      <td>74329</td>\n",
       "      <td>WBY1Z21050V308092</td>\n",
       "      <td>40350</td>\n",
       "      <td>55.7839</td>\n",
       "      <td>12.5204</td>\n",
       "      <td>55.6948</td>\n",
       "      <td>12.5522</td>\n",
       "      <td>2017-10-04 14:54:58</td>\n",
       "      <td>2017-10-04 14:50:58</td>\n",
       "      <td>2017-10-04 15:09:11</td>\n",
       "      <td>...</td>\n",
       "      <td>1730</td>\n",
       "      <td>10244</td>\n",
       "      <td>2017-10-04</td>\n",
       "      <td>2.066717</td>\n",
       "      <td>9.035865</td>\n",
       "      <td>15</td>\n",
       "      <td>9</td>\n",
       "      <td>2</td>\n",
       "      <td>autumn</td>\n",
       "      <td>0 days 05:47:35</td>\n",
       "    </tr>\n",
       "    <tr>\n",
       "      <th>192714</th>\n",
       "      <td>74957</td>\n",
       "      <td>WBY1Z21050V308092</td>\n",
       "      <td>36179</td>\n",
       "      <td>55.6948</td>\n",
       "      <td>12.5522</td>\n",
       "      <td>55.6597</td>\n",
       "      <td>12.6044</td>\n",
       "      <td>2017-10-04 21:08:46</td>\n",
       "      <td>2017-10-04 20:56:46</td>\n",
       "      <td>2017-10-04 21:25:23</td>\n",
       "      <td>...</td>\n",
       "      <td>10244</td>\n",
       "      <td>10317</td>\n",
       "      <td>2017-10-04</td>\n",
       "      <td>1.389434</td>\n",
       "      <td>7.231465</td>\n",
       "      <td>21</td>\n",
       "      <td>25</td>\n",
       "      <td>2</td>\n",
       "      <td>autumn</td>\n",
       "      <td>-1 days +12:27:10</td>\n",
       "    </tr>\n",
       "    <tr>\n",
       "      <th>192715</th>\n",
       "      <td>74106</td>\n",
       "      <td>WBY1Z21050V308092</td>\n",
       "      <td>9485</td>\n",
       "      <td>55.6872</td>\n",
       "      <td>12.5303</td>\n",
       "      <td>55.7054</td>\n",
       "      <td>12.554</td>\n",
       "      <td>2017-10-04 10:57:33</td>\n",
       "      <td>2017-10-04 09:52:33</td>\n",
       "      <td>2017-10-05 03:01:23</td>\n",
       "      <td>...</td>\n",
       "      <td>14716</td>\n",
       "      <td>10243</td>\n",
       "      <td>2017-10-04</td>\n",
       "      <td>1.168906</td>\n",
       "      <td>6.447408</td>\n",
       "      <td>3</td>\n",
       "      <td>1</td>\n",
       "      <td>3</td>\n",
       "      <td>autumn</td>\n",
       "      <td>0 days 05:55:09</td>\n",
       "    </tr>\n",
       "  </tbody>\n",
       "</table>\n",
       "<p>3 rows × 25 columns</p>\n",
       "</div>"
      ],
      "text/plain": [
       "        TurID              BilID  PersonID Latitude (Start) Longitude (Start)  \\\n",
       "192713  74329  WBY1Z21050V308092     40350          55.7839           12.5204   \n",
       "192714  74957  WBY1Z21050V308092     36179          55.6948           12.5522   \n",
       "192715  74106  WBY1Z21050V308092      9485          55.6872           12.5303   \n",
       "\n",
       "       Latitude (Slut) Longitude (Slut) Reservationstidspunkt  \\\n",
       "192713         55.6948          12.5522   2017-10-04 14:54:58   \n",
       "192714         55.6597          12.6044   2017-10-04 21:08:46   \n",
       "192715         55.7054           12.554   2017-10-04 10:57:33   \n",
       "\n",
       "           Start tidspunkt      Slut tidspunkt  ...  FromZoneID ToZoneID  \\\n",
       "192713 2017-10-04 14:50:58 2017-10-04 15:09:11  ...        1730    10244   \n",
       "192714 2017-10-04 20:56:46 2017-10-04 21:25:23  ...       10244    10317   \n",
       "192715 2017-10-04 09:52:33 2017-10-05 03:01:23  ...       14716    10243   \n",
       "\n",
       "              date    demand    supply  hour_drop_off  minute_drop_off  \\\n",
       "192713  2017-10-04  2.066717  9.035865             15                9   \n",
       "192714  2017-10-04  1.389434  7.231465             21               25   \n",
       "192715  2017-10-04  1.168906  6.447408              3                1   \n",
       "\n",
       "       day_drop_off  season  time_until_pickup  \n",
       "192713            2  autumn    0 days 05:47:35  \n",
       "192714            2  autumn  -1 days +12:27:10  \n",
       "192715            3  autumn    0 days 05:55:09  \n",
       "\n",
       "[3 rows x 25 columns]"
      ]
     },
     "execution_count": 31,
     "metadata": {},
     "output_type": "execute_result"
    }
   ],
   "source": [
    "print(df_processed.time_until_pickup.min())\n",
    "id_min = df_processed.time_until_pickup.idxmin()\n",
    "df_processed[(id_min-1):(id_min+2)]"
   ]
  },
  {
   "cell_type": "markdown",
   "metadata": {
    "id": "EGoIKN2wRSlB"
   },
   "source": [
    "We also check if there are times where end time is an earlier date than start time, which doesn't make any sense either."
   ]
  },
  {
   "cell_type": "code",
   "execution_count": 32,
   "metadata": {
    "colab": {
     "base_uri": "https://localhost:8080/"
    },
    "id": "D9_OIydBhCpD",
    "outputId": "4b18d3b0-b911-4480-e422-6a1dfc50b158"
   },
   "outputs": [
    {
     "data": {
      "text/plain": [
       "1"
      ]
     },
     "execution_count": 32,
     "metadata": {},
     "output_type": "execute_result"
    }
   ],
   "source": [
    "((df_processed[\"Slut tidspunkt\"]-df_processed[\"Start tidspunkt\"]).dt.total_seconds() < 0).sum()"
   ]
  },
  {
   "cell_type": "markdown",
   "metadata": {
    "id": "p6mJC0_tvbOR"
   },
   "source": [
    "We check how many times the bugs occur and save their trip indices"
   ]
  },
  {
   "cell_type": "code",
   "execution_count": 33,
   "metadata": {
    "colab": {
     "base_uri": "https://localhost:8080/"
    },
    "id": "te2pKHUzXDId",
    "outputId": "9373c604-9746-4b72-b233-50e07545dc75"
   },
   "outputs": [
    {
     "name": "stdout",
     "output_type": "stream",
     "text": [
      "11\n"
     ]
    }
   ],
   "source": [
    "count = 0\n",
    "get_bad_value_id = []\n",
    "\n",
    "for idx, x in df_processed.iterrows():\n",
    "  if x.time_until_pickup.total_seconds() < 0.0:\n",
    "    get_bad_value_id.append(df_processed.TurID[idx+1])\n",
    "    count += 1\n",
    "  if ((x[\"Slut tidspunkt\"]-x[\"Start tidspunkt\"]).total_seconds() < 0):\n",
    "    get_bad_value_id.append(df_processed.TurID[idx])\n",
    "    count += 1\n",
    "print(count)"
   ]
  },
  {
   "cell_type": "markdown",
   "metadata": {
    "id": "CB6NRx2ARfmH"
   },
   "source": [
    "Now removing bad values"
   ]
  },
  {
   "cell_type": "code",
   "execution_count": 34,
   "metadata": {
    "id": "0p7abtfbcn3O"
   },
   "outputs": [],
   "source": [
    "df=df.loc[~df.TurID.isin(get_bad_value_id)]\n",
    "# Redoing without bad values.\n",
    "waiting_time = df[\"Start tidspunkt\"]-df.groupby(\"BilID\")[\"Slut tidspunkt\"].shift()\n",
    "waiting_time = waiting_time[waiting_time.isna() == False].reset_index(drop=True)\n",
    "df_processed = df.groupby(\"BilID\", group_keys=False).apply(lambda x: x.iloc[:-1]).reset_index(drop=True)\n",
    "df_processed[\"time_until_pickup\"] = waiting_time"
   ]
  },
  {
   "cell_type": "code",
   "execution_count": 35,
   "metadata": {
    "id": "RamGqpu0Ykdk"
   },
   "outputs": [],
   "source": [
    "end_park=df.groupby(\"BilID\")[\"Start tidspunkt\"].shift(-1)\n",
    "end_park=end_park[end_park.isna()==False].reset_index(drop=True)\n",
    "df_processed[\"Start tidspunkt\"] = end_park"
   ]
  },
  {
   "cell_type": "markdown",
   "metadata": {
    "id": "RuX20P2RRjxA"
   },
   "source": [
    "Redefining the columns to make them more readible and easier to work with."
   ]
  },
  {
   "cell_type": "code",
   "execution_count": 36,
   "metadata": {
    "id": "68-PAIdG6ThN"
   },
   "outputs": [],
   "source": [
    "# Removing some of the data we do not need anymore\n",
    "df_processed.drop(labels=[\"TurID\",\"PersonID\",\"Latitude (Start)\",\"Longitude (Start)\", \"Reservationstidspunkt\", \"Alder\", \"Km kørt\", \"Køn\", \"date\", \"FromZoneID\"], axis=1, inplace=True)\n",
    "\n",
    "#redefining variables\n",
    "df_processed.columns = ['carid', 'latitude', 'longitude', \"end_parking\", \"start_parking\", 'battery_status_start', 'battery_status_end', 'zoneid','avg_demand', 'avg_supply', 'hour',\"minute\",'day','season', 'time_until_pickup' ]"
   ]
  },
  {
   "cell_type": "markdown",
   "metadata": {
    "id": "125OAudezagV"
   },
   "source": [
    "The features are now focused on when the car is parked. This means `latitude`, `longitude` are the location where the car is parked after use. `battery_status` is the battery status for when the car is parked, we removed battery status when the car is picked up (`Batteristatus (start)`) as it contains the same information as (`Batteristatus (slut)`), i.e. if the car is parked with a low battery and the average customer does not prefer a low battery, we would reckon that there is a longer time before the car is picked up again and vice versa. In which zone the parked car is located, `zoneid`. We do not find reservation time point very important for the analysis, neither the start times and end times of the trip. These are solely used to calculate the time before picked up. Age, sex, person id, and trip id are also all irrelevant. We added the hour the car was parked, the day, and the season, they all might tell something about when there is a high demand for the parked cars. Finally, we added the target variable `time_until_pickup`, which shows how long time before the specific car is picked up by a customer.  "
   ]
  },
  {
   "cell_type": "markdown",
   "metadata": {
    "id": "fLE6z5ftzTY6"
   },
   "source": [
    "# Finding an average charging rate of the batteries"
   ]
  },
  {
   "cell_type": "markdown",
   "metadata": {
    "id": "0cN_2wLz13gv"
   },
   "source": [
    "As the battery status changes over time we want to find the average charging rate of the batteries. First we check how many of the batteries are actually charging."
   ]
  },
  {
   "cell_type": "code",
   "execution_count": 37,
   "metadata": {
    "colab": {
     "base_uri": "https://localhost:8080/"
    },
    "id": "LMMESRxZ12-Z",
    "outputId": "a097ce75-e980-4143-eb78-13b049b0941e"
   },
   "outputs": [
    {
     "data": {
      "text/plain": [
       "0.1750292358950597"
      ]
     },
     "execution_count": 37,
     "metadata": {},
     "output_type": "execute_result"
    }
   ],
   "source": [
    "charging = (df_processed[\"battery_status_start\"].shift(-1) - df_processed[\"battery_status_end\"] > 0 )\n",
    "(charging).sum() / len(df_processed)"
   ]
  },
  {
   "cell_type": "markdown",
   "metadata": {
    "id": "JkGBpK-73DPA"
   },
   "source": [
    "Around 17%, this is not that many, as such we probably need an indicator whether the battery is charging or not if we want it to be dynamically included to the graph."
   ]
  },
  {
   "cell_type": "code",
   "execution_count": 38,
   "metadata": {
    "id": "pgvFWRBC3OF4"
   },
   "outputs": [],
   "source": [
    "df_processed[\"battery_charging\"] = (charging)*1"
   ]
  },
  {
   "cell_type": "code",
   "execution_count": 39,
   "metadata": {
    "colab": {
     "base_uri": "https://localhost:8080/",
     "height": 106
    },
    "id": "BKalizMQ0J1O",
    "outputId": "0c98a048-8757-427a-9d07-9417d1f107a1"
   },
   "outputs": [
    {
     "data": {
      "text/html": [
       "<div>\n",
       "<style scoped>\n",
       "    .dataframe tbody tr th:only-of-type {\n",
       "        vertical-align: middle;\n",
       "    }\n",
       "\n",
       "    .dataframe tbody tr th {\n",
       "        vertical-align: top;\n",
       "    }\n",
       "\n",
       "    .dataframe thead th {\n",
       "        text-align: right;\n",
       "    }\n",
       "</style>\n",
       "<table border=\"1\" class=\"dataframe\">\n",
       "  <thead>\n",
       "    <tr style=\"text-align: right;\">\n",
       "      <th></th>\n",
       "      <th>carid</th>\n",
       "      <th>latitude</th>\n",
       "      <th>longitude</th>\n",
       "      <th>end_parking</th>\n",
       "      <th>start_parking</th>\n",
       "      <th>battery_status_start</th>\n",
       "      <th>battery_status_end</th>\n",
       "      <th>zoneid</th>\n",
       "      <th>avg_demand</th>\n",
       "      <th>avg_supply</th>\n",
       "      <th>hour</th>\n",
       "      <th>minute</th>\n",
       "      <th>day</th>\n",
       "      <th>season</th>\n",
       "      <th>time_until_pickup</th>\n",
       "      <th>battery_charging</th>\n",
       "    </tr>\n",
       "  </thead>\n",
       "  <tbody>\n",
       "    <tr>\n",
       "      <th>39</th>\n",
       "      <td>WBY1Z21000V307738</td>\n",
       "      <td>55.6685</td>\n",
       "      <td>12.5541</td>\n",
       "      <td>2017-08-11 09:54:57</td>\n",
       "      <td>2017-08-10 21:40:56</td>\n",
       "      <td>19</td>\n",
       "      <td>14</td>\n",
       "      <td>10281</td>\n",
       "      <td>1.023698</td>\n",
       "      <td>3.33469</td>\n",
       "      <td>21</td>\n",
       "      <td>40</td>\n",
       "      <td>3</td>\n",
       "      <td>summer</td>\n",
       "      <td>0 days 12:14:01</td>\n",
       "      <td>1</td>\n",
       "    </tr>\n",
       "    <tr>\n",
       "      <th>40</th>\n",
       "      <td>WBY1Z21000V307738</td>\n",
       "      <td>55.6687</td>\n",
       "      <td>12.5543</td>\n",
       "      <td>2017-08-11 19:03:57</td>\n",
       "      <td>2017-08-11 12:08:21</td>\n",
       "      <td>100</td>\n",
       "      <td>91</td>\n",
       "      <td>10281</td>\n",
       "      <td>1.023698</td>\n",
       "      <td>3.33469</td>\n",
       "      <td>12</td>\n",
       "      <td>8</td>\n",
       "      <td>4</td>\n",
       "      <td>summer</td>\n",
       "      <td>0 days 06:55:36</td>\n",
       "      <td>0</td>\n",
       "    </tr>\n",
       "  </tbody>\n",
       "</table>\n",
       "</div>"
      ],
      "text/plain": [
       "                carid latitude longitude         end_parking  \\\n",
       "39  WBY1Z21000V307738  55.6685   12.5541 2017-08-11 09:54:57   \n",
       "40  WBY1Z21000V307738  55.6687   12.5543 2017-08-11 19:03:57   \n",
       "\n",
       "         start_parking battery_status_start battery_status_end  zoneid  \\\n",
       "39 2017-08-10 21:40:56                   19                 14   10281   \n",
       "40 2017-08-11 12:08:21                  100                 91   10281   \n",
       "\n",
       "    avg_demand  avg_supply  hour  minute  day  season time_until_pickup  \\\n",
       "39    1.023698     3.33469    21      40    3  summer   0 days 12:14:01   \n",
       "40    1.023698     3.33469    12       8    4  summer   0 days 06:55:36   \n",
       "\n",
       "    battery_charging  \n",
       "39                 1  \n",
       "40                 0  "
      ]
     },
     "execution_count": 39,
     "metadata": {},
     "output_type": "execute_result"
    }
   ],
   "source": [
    "# we see the indicator now indicates the battery is charging, e.g. from 14 to 100.\n",
    "df_processed[39:41]"
   ]
  },
  {
   "cell_type": "markdown",
   "metadata": {
    "id": "-qSwjOd74V7X"
   },
   "source": [
    "We now find the average charging rate"
   ]
  },
  {
   "cell_type": "code",
   "execution_count": 40,
   "metadata": {
    "colab": {
     "base_uri": "https://localhost:8080/"
    },
    "id": "Ge0nQrfP4UxG",
    "outputId": "8eb1bf21-1a14-4243-f371-4087f5b34cca"
   },
   "outputs": [
    {
     "name": "stdout",
     "output_type": "stream",
     "text": [
      "10.601436334770751\n"
     ]
    }
   ],
   "source": [
    "interval = 60*60 # 1 hour\n",
    "\n",
    "amount_charged = (df_processed[\"battery_status_start\"].shift(-1) - df_processed[\"battery_status_end\"])[charging]\n",
    "time_charging_seconds = df_processed[\"time_until_pickup\"][charging].dt.total_seconds()\n",
    "avg_percent_charge = ( amount_charged / time_charging_seconds ).mean() * interval\n",
    "print(avg_percent_charge)"
   ]
  },
  {
   "cell_type": "markdown",
   "metadata": {
    "id": "thw6dyqy6BHi"
   },
   "source": [
    "As such we charge around 10% per hour. So to fully charge a car from 0 to 100 percent takes around 10 hours. This calculation assumes a linear charging rate. Modern batteries are often not following a linear charging routine, to give an example; it might not follow a linear increase in time to charge from 0 to 90 versus 0 to 100, the last 10 percent is often slower. We do not take this into account due to not enough information."
   ]
  },
  {
   "cell_type": "code",
   "execution_count": 41,
   "metadata": {
    "id": "y4yPzjma63th"
   },
   "outputs": [],
   "source": [
    "df_processed.drop([\"battery_status_start\"], axis=1, inplace=True)"
   ]
  },
  {
   "cell_type": "markdown",
   "metadata": {
    "id": "YQAh1GA7ihI_"
   },
   "source": [
    "### Visualising the data and Encoding features"
   ]
  },
  {
   "cell_type": "markdown",
   "metadata": {
    "id": "iqeCmUeaqjU9"
   },
   "source": [
    "We now have the following data frame."
   ]
  },
  {
   "cell_type": "code",
   "execution_count": 42,
   "metadata": {
    "colab": {
     "base_uri": "https://localhost:8080/",
     "height": 194
    },
    "id": "8QagLcBlqjg7",
    "outputId": "940eb7d5-4cad-4103-9d9d-2ab18c6716e7"
   },
   "outputs": [
    {
     "data": {
      "text/html": [
       "<div>\n",
       "<style scoped>\n",
       "    .dataframe tbody tr th:only-of-type {\n",
       "        vertical-align: middle;\n",
       "    }\n",
       "\n",
       "    .dataframe tbody tr th {\n",
       "        vertical-align: top;\n",
       "    }\n",
       "\n",
       "    .dataframe thead th {\n",
       "        text-align: right;\n",
       "    }\n",
       "</style>\n",
       "<table border=\"1\" class=\"dataframe\">\n",
       "  <thead>\n",
       "    <tr style=\"text-align: right;\">\n",
       "      <th></th>\n",
       "      <th>carid</th>\n",
       "      <th>latitude</th>\n",
       "      <th>longitude</th>\n",
       "      <th>end_parking</th>\n",
       "      <th>start_parking</th>\n",
       "      <th>battery_status_end</th>\n",
       "      <th>zoneid</th>\n",
       "      <th>avg_demand</th>\n",
       "      <th>avg_supply</th>\n",
       "      <th>hour</th>\n",
       "      <th>minute</th>\n",
       "      <th>day</th>\n",
       "      <th>season</th>\n",
       "      <th>time_until_pickup</th>\n",
       "      <th>battery_charging</th>\n",
       "    </tr>\n",
       "  </thead>\n",
       "  <tbody>\n",
       "    <tr>\n",
       "      <th>0</th>\n",
       "      <td>WBY1Z21000V307738</td>\n",
       "      <td>55.659</td>\n",
       "      <td>12.6055</td>\n",
       "      <td>2017-08-04 14:34:20</td>\n",
       "      <td>2017-08-04 13:48:55</td>\n",
       "      <td>30</td>\n",
       "      <td>10317</td>\n",
       "      <td>1.389434</td>\n",
       "      <td>7.231465</td>\n",
       "      <td>13</td>\n",
       "      <td>48</td>\n",
       "      <td>4</td>\n",
       "      <td>summer</td>\n",
       "      <td>0 days 00:45:25</td>\n",
       "      <td>0</td>\n",
       "    </tr>\n",
       "    <tr>\n",
       "      <th>1</th>\n",
       "      <td>WBY1Z21000V307738</td>\n",
       "      <td>55.6744</td>\n",
       "      <td>12.6029</td>\n",
       "      <td>2017-08-04 14:57:41</td>\n",
       "      <td>2017-08-04 14:48:43</td>\n",
       "      <td>27</td>\n",
       "      <td>10314</td>\n",
       "      <td>1.174642</td>\n",
       "      <td>4.716998</td>\n",
       "      <td>14</td>\n",
       "      <td>48</td>\n",
       "      <td>4</td>\n",
       "      <td>summer</td>\n",
       "      <td>0 days 00:08:58</td>\n",
       "      <td>0</td>\n",
       "    </tr>\n",
       "    <tr>\n",
       "      <th>2</th>\n",
       "      <td>WBY1Z21000V307738</td>\n",
       "      <td>55.6199</td>\n",
       "      <td>12.581</td>\n",
       "      <td>2017-08-04 15:30:26</td>\n",
       "      <td>2017-08-04 15:21:20</td>\n",
       "      <td>22</td>\n",
       "      <td>10329</td>\n",
       "      <td>0.985660</td>\n",
       "      <td>5.783002</td>\n",
       "      <td>15</td>\n",
       "      <td>21</td>\n",
       "      <td>4</td>\n",
       "      <td>summer</td>\n",
       "      <td>0 days 00:09:06</td>\n",
       "      <td>0</td>\n",
       "    </tr>\n",
       "    <tr>\n",
       "      <th>3</th>\n",
       "      <td>WBY1Z21000V307738</td>\n",
       "      <td>55.6444</td>\n",
       "      <td>12.6153</td>\n",
       "      <td>2017-08-04 16:06:01</td>\n",
       "      <td>2017-08-04 15:42:20</td>\n",
       "      <td>18</td>\n",
       "      <td>10325</td>\n",
       "      <td>0.441660</td>\n",
       "      <td>3.867993</td>\n",
       "      <td>15</td>\n",
       "      <td>42</td>\n",
       "      <td>4</td>\n",
       "      <td>summer</td>\n",
       "      <td>0 days 00:23:41</td>\n",
       "      <td>0</td>\n",
       "    </tr>\n",
       "    <tr>\n",
       "      <th>4</th>\n",
       "      <td>WBY1Z21000V307738</td>\n",
       "      <td>55.6455</td>\n",
       "      <td>12.6365</td>\n",
       "      <td>2017-08-04 19:33:27</td>\n",
       "      <td>2017-08-04 16:15:30</td>\n",
       "      <td>17</td>\n",
       "      <td>10321</td>\n",
       "      <td>0.536453</td>\n",
       "      <td>4.056811</td>\n",
       "      <td>16</td>\n",
       "      <td>15</td>\n",
       "      <td>4</td>\n",
       "      <td>summer</td>\n",
       "      <td>0 days 03:17:57</td>\n",
       "      <td>0</td>\n",
       "    </tr>\n",
       "  </tbody>\n",
       "</table>\n",
       "</div>"
      ],
      "text/plain": [
       "               carid latitude longitude         end_parking  \\\n",
       "0  WBY1Z21000V307738   55.659   12.6055 2017-08-04 14:34:20   \n",
       "1  WBY1Z21000V307738  55.6744   12.6029 2017-08-04 14:57:41   \n",
       "2  WBY1Z21000V307738  55.6199    12.581 2017-08-04 15:30:26   \n",
       "3  WBY1Z21000V307738  55.6444   12.6153 2017-08-04 16:06:01   \n",
       "4  WBY1Z21000V307738  55.6455   12.6365 2017-08-04 19:33:27   \n",
       "\n",
       "        start_parking battery_status_end  zoneid  avg_demand  avg_supply  \\\n",
       "0 2017-08-04 13:48:55                 30   10317    1.389434    7.231465   \n",
       "1 2017-08-04 14:48:43                 27   10314    1.174642    4.716998   \n",
       "2 2017-08-04 15:21:20                 22   10329    0.985660    5.783002   \n",
       "3 2017-08-04 15:42:20                 18   10325    0.441660    3.867993   \n",
       "4 2017-08-04 16:15:30                 17   10321    0.536453    4.056811   \n",
       "\n",
       "   hour  minute  day  season time_until_pickup  battery_charging  \n",
       "0    13      48    4  summer   0 days 00:45:25                 0  \n",
       "1    14      48    4  summer   0 days 00:08:58                 0  \n",
       "2    15      21    4  summer   0 days 00:09:06                 0  \n",
       "3    15      42    4  summer   0 days 00:23:41                 0  \n",
       "4    16      15    4  summer   0 days 03:17:57                 0  "
      ]
     },
     "execution_count": 42,
     "metadata": {},
     "output_type": "execute_result"
    }
   ],
   "source": [
    "'''\n",
    "carid: ID of car\n",
    "latitude: latitude of car parked after ended trip\n",
    "longitude: longitude of car parked after ended trip\n",
    "end_parking: date parking ended\n",
    "start_parking: date parking started\n",
    "battery_status_end: Status of battery when trip ended or when car got parked.\n",
    "zoneid: The zone where car is parked after ended trip\n",
    "demand: avg zone demand\n",
    "supply: avg zone supply\n",
    "hour: hour of the day when car is parked\n",
    "minute: minute of the day when car is parked\n",
    "day: day when car is parked\n",
    "season: season when car is parked\n",
    "time_until_pickup: the time it took until next trip is initialised\n",
    "battery_charging: whether the battery charges or not.\n",
    "'''\n",
    "df_processed.head(5)"
   ]
  },
  {
   "cell_type": "markdown",
   "metadata": {
    "id": "8TjAJlImLiIq"
   },
   "source": [
    "Before encoding let us visualise some relevant data."
   ]
  },
  {
   "cell_type": "code",
   "execution_count": 43,
   "metadata": {
    "id": "cOJAU8QGLdeP"
   },
   "outputs": [],
   "source": [
    "df_temp = df_processed.copy()\n",
    "df_temp[\"time_until_pickup\"] = df_temp[\"time_until_pickup\"].dt.total_seconds()//(60)\n"
   ]
  },
  {
   "cell_type": "markdown",
   "metadata": {
    "id": "gFnSyAZWLdti"
   },
   "source": [
    "We divide pickup times into categories, short, decent, long, and very long pickup time."
   ]
  },
  {
   "cell_type": "code",
   "execution_count": 44,
   "metadata": {
    "id": "bgwT65S-H6zu"
   },
   "outputs": [],
   "source": [
    "df_temp[\"pickup_time_cat\"]=pd.cut(df_temp.time_until_pickup,bins=[-1,30,60*2,60*8,80000],labels=['short','decent','long','very long'])"
   ]
  },
  {
   "cell_type": "markdown",
   "metadata": {
    "id": "nhcV3b-SpHzT"
   },
   "source": [
    "Let us see how the different categories vary depending on the time of day. Looking at the figure below we see that there is a rise in initial parking time from 17:00 to around 00:00. Intuitively, this makes sense, as it is at this point most people arrive at home and park the car until it will get picked up next morning around 8:00-9:00."
   ]
  },
  {
   "cell_type": "code",
   "execution_count": 45,
   "metadata": {
    "colab": {
     "base_uri": "https://localhost:8080/",
     "height": 633
    },
    "id": "g5XqSCfgK2rx",
    "outputId": "92bcd967-3276-4f68-b4a1-9ef19bf1c7d4"
   },
   "outputs": [
    {
     "data": {
      "text/plain": [
       "<AxesSubplot:xlabel='hour'>"
      ]
     },
     "execution_count": 45,
     "metadata": {},
     "output_type": "execute_result"
    },
    {
     "data": {
      "image/png": "[encoded data removed]",
      "text/plain": [
       "<Figure size 1440x720 with 1 Axes>"
      ]
     },
     "metadata": {},
     "output_type": "display_data"
    }
   ],
   "source": [
    "df_temp.groupby([\"hour\", \"pickup_time_cat\"]).count()[\"carid\"].unstack(-1).plot.bar(figsize=(20,10),stacked=True)"
   ]
  },
  {
   "cell_type": "markdown",
   "metadata": {
    "id": "EpA7eHXHpzhL"
   },
   "source": [
    "Looking at the seasons we see the data is fairly unbalanced, we cut away most of the summer. Besides that not much difference is observed between the seasons, except that colder months seem to have a rise in pickups."
   ]
  },
  {
   "cell_type": "code",
   "execution_count": 46,
   "metadata": {
    "colab": {
     "base_uri": "https://localhost:8080/",
     "height": 502
    },
    "id": "-3wVwHhXM06l",
    "outputId": "57c5f5c8-88aa-4e9c-c91b-fdf7e18360c6"
   },
   "outputs": [
    {
     "data": {
      "text/plain": [
       "<AxesSubplot:xlabel='season'>"
      ]
     },
     "execution_count": 46,
     "metadata": {},
     "output_type": "execute_result"
    },
    {
     "data": {
      "image/png": "[encoded data removed]",
      "text/plain": [
       "<Figure size 1440x504 with 1 Axes>"
      ]
     },
     "metadata": {},
     "output_type": "display_data"
    }
   ],
   "source": [
    "df_temp.groupby([\"season\", \"pickup_time_cat\"]).count()[\"carid\"].unstack(-1).plot.bar(figsize=(20,7),stacked=True)"
   ]
  },
  {
   "cell_type": "markdown",
   "metadata": {
    "id": "md6HsQEfqAdK"
   },
   "source": [
    "Looking at the battery status there seem to be a slight trend when the car is parked. Cars parked with low battery time seem to have a higher waiting time before picked up again by a customer."
   ]
  },
  {
   "cell_type": "code",
   "execution_count": 47,
   "metadata": {
    "colab": {
     "base_uri": "https://localhost:8080/",
     "height": 289
    },
    "id": "Ai_5z239Oqyu",
    "outputId": "4c9444e3-e838-492e-eac6-0664254232b2"
   },
   "outputs": [
    {
     "data": {
      "image/png": "[encoded data removed]",
      "text/plain": [
       "<Figure size 648x432 with 1 Axes>"
      ]
     },
     "metadata": {},
     "output_type": "display_data"
    }
   ],
   "source": [
    "df_temp.plot.scatter(x='battery_status_end',y='time_until_pickup', ylim=[-100,10000]);"
   ]
  },
  {
   "cell_type": "markdown",
   "metadata": {
    "id": "joAHY1nJsQfl"
   },
   "source": [
    "Just to show the target variables, we see they are highly skewed. Short pickup times are dominating."
   ]
  },
  {
   "cell_type": "code",
   "execution_count": 48,
   "metadata": {
    "colab": {
     "base_uri": "https://localhost:8080/",
     "height": 340
    },
    "id": "tgu2qGKUqo9x",
    "outputId": "d4924be5-c915-4331-9a05-1ed9ace1ddcd"
   },
   "outputs": [
    {
     "data": {
      "text/plain": [
       "<AxesSubplot:ylabel='Frequency'>"
      ]
     },
     "execution_count": 48,
     "metadata": {},
     "output_type": "execute_result"
    },
    {
     "data": {
      "image/png": "[encoded data removed]",
      "text/plain": [
       "<Figure size 720x360 with 1 Axes>"
      ]
     },
     "metadata": {},
     "output_type": "display_data"
    }
   ],
   "source": [
    "df_temp[\"time_until_pickup\"].plot.hist(figsize=(10,5), bins=100, range=(0,2000))"
   ]
  },
  {
   "cell_type": "markdown",
   "metadata": {
    "id": "ZJrlAuAc-v6J"
   },
   "source": [
    "Before encoding let us check the correlation between the features."
   ]
  },
  {
   "cell_type": "code",
   "execution_count": 49,
   "metadata": {
    "colab": {
     "base_uri": "https://localhost:8080/",
     "height": 223
    },
    "id": "kYbWQfGq-xkz",
    "outputId": "d0463dd5-1bec-475a-ebf9-ead76452f0f7"
   },
   "outputs": [
    {
     "data": {
      "text/html": [
       "<style  type=\"text/css\" >\n",
       "#T_14a41e02_a689_11eb_a460_b883034fb698row0_col0,#T_14a41e02_a689_11eb_a460_b883034fb698row1_col1,#T_14a41e02_a689_11eb_a460_b883034fb698row2_col2,#T_14a41e02_a689_11eb_a460_b883034fb698row3_col3,#T_14a41e02_a689_11eb_a460_b883034fb698row4_col4,#T_14a41e02_a689_11eb_a460_b883034fb698row5_col5,#T_14a41e02_a689_11eb_a460_b883034fb698row6_col6,#T_14a41e02_a689_11eb_a460_b883034fb698row7_col7,#T_14a41e02_a689_11eb_a460_b883034fb698row8_col8{\n",
       "            background-color:  #b40426;\n",
       "            color:  #f1f1f1;\n",
       "        }#T_14a41e02_a689_11eb_a460_b883034fb698row0_col1,#T_14a41e02_a689_11eb_a460_b883034fb698row4_col6,#T_14a41e02_a689_11eb_a460_b883034fb698row7_col6{\n",
       "            background-color:  #3e51c5;\n",
       "            color:  #f1f1f1;\n",
       "        }#T_14a41e02_a689_11eb_a460_b883034fb698row0_col2,#T_14a41e02_a689_11eb_a460_b883034fb698row0_col7,#T_14a41e02_a689_11eb_a460_b883034fb698row0_col8,#T_14a41e02_a689_11eb_a460_b883034fb698row2_col0,#T_14a41e02_a689_11eb_a460_b883034fb698row2_col3,#T_14a41e02_a689_11eb_a460_b883034fb698row2_col5,#T_14a41e02_a689_11eb_a460_b883034fb698row3_col4,#T_14a41e02_a689_11eb_a460_b883034fb698row3_col6,#T_14a41e02_a689_11eb_a460_b883034fb698row7_col1{\n",
       "            background-color:  #3b4cc0;\n",
       "            color:  #f1f1f1;\n",
       "        }#T_14a41e02_a689_11eb_a460_b883034fb698row0_col3{\n",
       "            background-color:  #7597f6;\n",
       "            color:  #000000;\n",
       "        }#T_14a41e02_a689_11eb_a460_b883034fb698row0_col4,#T_14a41e02_a689_11eb_a460_b883034fb698row7_col5{\n",
       "            background-color:  #4257c9;\n",
       "            color:  #f1f1f1;\n",
       "        }#T_14a41e02_a689_11eb_a460_b883034fb698row0_col5,#T_14a41e02_a689_11eb_a460_b883034fb698row1_col3{\n",
       "            background-color:  #506bda;\n",
       "            color:  #000000;\n",
       "        }#T_14a41e02_a689_11eb_a460_b883034fb698row0_col6,#T_14a41e02_a689_11eb_a460_b883034fb698row2_col6,#T_14a41e02_a689_11eb_a460_b883034fb698row3_col5{\n",
       "            background-color:  #3f53c6;\n",
       "            color:  #f1f1f1;\n",
       "        }#T_14a41e02_a689_11eb_a460_b883034fb698row1_col0{\n",
       "            background-color:  #9ebeff;\n",
       "            color:  #000000;\n",
       "        }#T_14a41e02_a689_11eb_a460_b883034fb698row1_col2{\n",
       "            background-color:  #f18f71;\n",
       "            color:  #000000;\n",
       "        }#T_14a41e02_a689_11eb_a460_b883034fb698row1_col4,#T_14a41e02_a689_11eb_a460_b883034fb698row1_col5,#T_14a41e02_a689_11eb_a460_b883034fb698row4_col5,#T_14a41e02_a689_11eb_a460_b883034fb698row6_col5,#T_14a41e02_a689_11eb_a460_b883034fb698row8_col4{\n",
       "            background-color:  #4358cb;\n",
       "            color:  #f1f1f1;\n",
       "        }#T_14a41e02_a689_11eb_a460_b883034fb698row1_col6,#T_14a41e02_a689_11eb_a460_b883034fb698row5_col4{\n",
       "            background-color:  #4055c8;\n",
       "            color:  #f1f1f1;\n",
       "        }#T_14a41e02_a689_11eb_a460_b883034fb698row1_col7,#T_14a41e02_a689_11eb_a460_b883034fb698row6_col3{\n",
       "            background-color:  #4a63d3;\n",
       "            color:  #f1f1f1;\n",
       "        }#T_14a41e02_a689_11eb_a460_b883034fb698row1_col8,#T_14a41e02_a689_11eb_a460_b883034fb698row5_col7{\n",
       "            background-color:  #6180e9;\n",
       "            color:  #000000;\n",
       "        }#T_14a41e02_a689_11eb_a460_b883034fb698row2_col1{\n",
       "            background-color:  #f7b396;\n",
       "            color:  #000000;\n",
       "        }#T_14a41e02_a689_11eb_a460_b883034fb698row2_col4,#T_14a41e02_a689_11eb_a460_b883034fb698row6_col4,#T_14a41e02_a689_11eb_a460_b883034fb698row7_col4{\n",
       "            background-color:  #445acc;\n",
       "            color:  #f1f1f1;\n",
       "        }#T_14a41e02_a689_11eb_a460_b883034fb698row2_col7{\n",
       "            background-color:  #7b9ff9;\n",
       "            color:  #000000;\n",
       "        }#T_14a41e02_a689_11eb_a460_b883034fb698row2_col8{\n",
       "            background-color:  #6687ed;\n",
       "            color:  #000000;\n",
       "        }#T_14a41e02_a689_11eb_a460_b883034fb698row3_col0{\n",
       "            background-color:  #c9d7f0;\n",
       "            color:  #000000;\n",
       "        }#T_14a41e02_a689_11eb_a460_b883034fb698row3_col1,#T_14a41e02_a689_11eb_a460_b883034fb698row7_col3{\n",
       "            background-color:  #5572df;\n",
       "            color:  #000000;\n",
       "        }#T_14a41e02_a689_11eb_a460_b883034fb698row3_col2{\n",
       "            background-color:  #9fbfff;\n",
       "            color:  #000000;\n",
       "        }#T_14a41e02_a689_11eb_a460_b883034fb698row3_col7{\n",
       "            background-color:  #6b8df0;\n",
       "            color:  #000000;\n",
       "        }#T_14a41e02_a689_11eb_a460_b883034fb698row3_col8,#T_14a41e02_a689_11eb_a460_b883034fb698row6_col1{\n",
       "            background-color:  #5673e0;\n",
       "            color:  #000000;\n",
       "        }#T_14a41e02_a689_11eb_a460_b883034fb698row4_col0{\n",
       "            background-color:  #aec9fc;\n",
       "            color:  #000000;\n",
       "        }#T_14a41e02_a689_11eb_a460_b883034fb698row4_col1{\n",
       "            background-color:  #536edd;\n",
       "            color:  #000000;\n",
       "        }#T_14a41e02_a689_11eb_a460_b883034fb698row4_col2,#T_14a41e02_a689_11eb_a460_b883034fb698row6_col0,#T_14a41e02_a689_11eb_a460_b883034fb698row6_col2{\n",
       "            background-color:  #afcafc;\n",
       "            color:  #000000;\n",
       "        }#T_14a41e02_a689_11eb_a460_b883034fb698row4_col3{\n",
       "            background-color:  #455cce;\n",
       "            color:  #f1f1f1;\n",
       "        }#T_14a41e02_a689_11eb_a460_b883034fb698row4_col7{\n",
       "            background-color:  #6485ec;\n",
       "            color:  #000000;\n",
       "        }#T_14a41e02_a689_11eb_a460_b883034fb698row4_col8{\n",
       "            background-color:  #4b64d5;\n",
       "            color:  #f1f1f1;\n",
       "        }#T_14a41e02_a689_11eb_a460_b883034fb698row5_col0{\n",
       "            background-color:  #b7cff9;\n",
       "            color:  #000000;\n",
       "        }#T_14a41e02_a689_11eb_a460_b883034fb698row5_col1{\n",
       "            background-color:  #516ddb;\n",
       "            color:  #000000;\n",
       "        }#T_14a41e02_a689_11eb_a460_b883034fb698row5_col2{\n",
       "            background-color:  #a6c4fe;\n",
       "            color:  #000000;\n",
       "        }#T_14a41e02_a689_11eb_a460_b883034fb698row5_col3,#T_14a41e02_a689_11eb_a460_b883034fb698row8_col6{\n",
       "            background-color:  #4961d2;\n",
       "            color:  #f1f1f1;\n",
       "        }#T_14a41e02_a689_11eb_a460_b883034fb698row5_col6{\n",
       "            background-color:  #3c4ec2;\n",
       "            color:  #f1f1f1;\n",
       "        }#T_14a41e02_a689_11eb_a460_b883034fb698row5_col8{\n",
       "            background-color:  #4e68d8;\n",
       "            color:  #000000;\n",
       "        }#T_14a41e02_a689_11eb_a460_b883034fb698row6_col7{\n",
       "            background-color:  #6384eb;\n",
       "            color:  #000000;\n",
       "        }#T_14a41e02_a689_11eb_a460_b883034fb698row6_col8{\n",
       "            background-color:  #5875e1;\n",
       "            color:  #000000;\n",
       "        }#T_14a41e02_a689_11eb_a460_b883034fb698row7_col0{\n",
       "            background-color:  #8caffe;\n",
       "            color:  #000000;\n",
       "        }#T_14a41e02_a689_11eb_a460_b883034fb698row7_col2,#T_14a41e02_a689_11eb_a460_b883034fb698row8_col2{\n",
       "            background-color:  #c0d4f5;\n",
       "            color:  #000000;\n",
       "        }#T_14a41e02_a689_11eb_a460_b883034fb698row7_col8{\n",
       "            background-color:  #a2c1ff;\n",
       "            color:  #000000;\n",
       "        }#T_14a41e02_a689_11eb_a460_b883034fb698row8_col0{\n",
       "            background-color:  #a1c0ff;\n",
       "            color:  #000000;\n",
       "        }#T_14a41e02_a689_11eb_a460_b883034fb698row8_col1{\n",
       "            background-color:  #688aef;\n",
       "            color:  #000000;\n",
       "        }#T_14a41e02_a689_11eb_a460_b883034fb698row8_col3{\n",
       "            background-color:  #5977e3;\n",
       "            color:  #000000;\n",
       "        }#T_14a41e02_a689_11eb_a460_b883034fb698row8_col5{\n",
       "            background-color:  #465ecf;\n",
       "            color:  #f1f1f1;\n",
       "        }#T_14a41e02_a689_11eb_a460_b883034fb698row8_col7{\n",
       "            background-color:  #b3cdfb;\n",
       "            color:  #000000;\n",
       "        }</style><table id=\"T_14a41e02_a689_11eb_a460_b883034fb698\" ><thead>    <tr>        <th class=\"blank level0\" ></th>        <th class=\"col_heading level0 col0\" >zoneid</th>        <th class=\"col_heading level0 col1\" >avg_demand</th>        <th class=\"col_heading level0 col2\" >avg_supply</th>        <th class=\"col_heading level0 col3\" >hour</th>        <th class=\"col_heading level0 col4\" >minute</th>        <th class=\"col_heading level0 col5\" >day</th>        <th class=\"col_heading level0 col6\" >season</th>        <th class=\"col_heading level0 col7\" >time_until_pickup</th>        <th class=\"col_heading level0 col8\" >battery_charging</th>    </tr></thead><tbody>\n",
       "                <tr>\n",
       "                        <th id=\"T_14a41e02_a689_11eb_a460_b883034fb698level0_row0\" class=\"row_heading level0 row0\" >zoneid</th>\n",
       "                        <td id=\"T_14a41e02_a689_11eb_a460_b883034fb698row0_col0\" class=\"data row0 col0\" >1.00</td>\n",
       "                        <td id=\"T_14a41e02_a689_11eb_a460_b883034fb698row0_col1\" class=\"data row0 col1\" >-0.08</td>\n",
       "                        <td id=\"T_14a41e02_a689_11eb_a460_b883034fb698row0_col2\" class=\"data row0 col2\" >-0.53</td>\n",
       "                        <td id=\"T_14a41e02_a689_11eb_a460_b883034fb698row0_col3\" class=\"data row0 col3\" >0.12</td>\n",
       "                        <td id=\"T_14a41e02_a689_11eb_a460_b883034fb698row0_col4\" class=\"data row0 col4\" >-0.01</td>\n",
       "                        <td id=\"T_14a41e02_a689_11eb_a460_b883034fb698row0_col5\" class=\"data row0 col5\" >0.04</td>\n",
       "                        <td id=\"T_14a41e02_a689_11eb_a460_b883034fb698row0_col6\" class=\"data row0 col6\" >0.01</td>\n",
       "                        <td id=\"T_14a41e02_a689_11eb_a460_b883034fb698row0_col7\" class=\"data row0 col7\" >-0.15</td>\n",
       "                        <td id=\"T_14a41e02_a689_11eb_a460_b883034fb698row0_col8\" class=\"data row0 col8\" >-0.06</td>\n",
       "            </tr>\n",
       "            <tr>\n",
       "                        <th id=\"T_14a41e02_a689_11eb_a460_b883034fb698level0_row1\" class=\"row_heading level0 row1\" >avg_demand</th>\n",
       "                        <td id=\"T_14a41e02_a689_11eb_a460_b883034fb698row1_col0\" class=\"data row1 col0\" >-0.08</td>\n",
       "                        <td id=\"T_14a41e02_a689_11eb_a460_b883034fb698row1_col1\" class=\"data row1 col1\" >1.00</td>\n",
       "                        <td id=\"T_14a41e02_a689_11eb_a460_b883034fb698row1_col2\" class=\"data row1 col2\" >0.65</td>\n",
       "                        <td id=\"T_14a41e02_a689_11eb_a460_b883034fb698row1_col3\" class=\"data row1 col3\" >0.00</td>\n",
       "                        <td id=\"T_14a41e02_a689_11eb_a460_b883034fb698row1_col4\" class=\"data row1 col4\" >-0.00</td>\n",
       "                        <td id=\"T_14a41e02_a689_11eb_a460_b883034fb698row1_col5\" class=\"data row1 col5\" >-0.01</td>\n",
       "                        <td id=\"T_14a41e02_a689_11eb_a460_b883034fb698row1_col6\" class=\"data row1 col6\" >0.01</td>\n",
       "                        <td id=\"T_14a41e02_a689_11eb_a460_b883034fb698row1_col7\" class=\"data row1 col7\" >-0.09</td>\n",
       "                        <td id=\"T_14a41e02_a689_11eb_a460_b883034fb698row1_col8\" class=\"data row1 col8\" >0.07</td>\n",
       "            </tr>\n",
       "            <tr>\n",
       "                        <th id=\"T_14a41e02_a689_11eb_a460_b883034fb698level0_row2\" class=\"row_heading level0 row2\" >avg_supply</th>\n",
       "                        <td id=\"T_14a41e02_a689_11eb_a460_b883034fb698row2_col0\" class=\"data row2 col0\" >-0.53</td>\n",
       "                        <td id=\"T_14a41e02_a689_11eb_a460_b883034fb698row2_col1\" class=\"data row2 col1\" >0.65</td>\n",
       "                        <td id=\"T_14a41e02_a689_11eb_a460_b883034fb698row2_col2\" class=\"data row2 col2\" >1.00</td>\n",
       "                        <td id=\"T_14a41e02_a689_11eb_a460_b883034fb698row2_col3\" class=\"data row2 col3\" >-0.07</td>\n",
       "                        <td id=\"T_14a41e02_a689_11eb_a460_b883034fb698row2_col4\" class=\"data row2 col4\" >0.00</td>\n",
       "                        <td id=\"T_14a41e02_a689_11eb_a460_b883034fb698row2_col5\" class=\"data row2 col5\" >-0.04</td>\n",
       "                        <td id=\"T_14a41e02_a689_11eb_a460_b883034fb698row2_col6\" class=\"data row2 col6\" >0.00</td>\n",
       "                        <td id=\"T_14a41e02_a689_11eb_a460_b883034fb698row2_col7\" class=\"data row2 col7\" >0.08</td>\n",
       "                        <td id=\"T_14a41e02_a689_11eb_a460_b883034fb698row2_col8\" class=\"data row2 col8\" >0.08</td>\n",
       "            </tr>\n",
       "            <tr>\n",
       "                        <th id=\"T_14a41e02_a689_11eb_a460_b883034fb698level0_row3\" class=\"row_heading level0 row3\" >hour</th>\n",
       "                        <td id=\"T_14a41e02_a689_11eb_a460_b883034fb698row3_col0\" class=\"data row3 col0\" >0.12</td>\n",
       "                        <td id=\"T_14a41e02_a689_11eb_a460_b883034fb698row3_col1\" class=\"data row3 col1\" >0.00</td>\n",
       "                        <td id=\"T_14a41e02_a689_11eb_a460_b883034fb698row3_col2\" class=\"data row3 col2\" >-0.07</td>\n",
       "                        <td id=\"T_14a41e02_a689_11eb_a460_b883034fb698row3_col3\" class=\"data row3 col3\" >1.00</td>\n",
       "                        <td id=\"T_14a41e02_a689_11eb_a460_b883034fb698row3_col4\" class=\"data row3 col4\" >-0.03</td>\n",
       "                        <td id=\"T_14a41e02_a689_11eb_a460_b883034fb698row3_col5\" class=\"data row3 col5\" >-0.02</td>\n",
       "                        <td id=\"T_14a41e02_a689_11eb_a460_b883034fb698row3_col6\" class=\"data row3 col6\" >-0.01</td>\n",
       "                        <td id=\"T_14a41e02_a689_11eb_a460_b883034fb698row3_col7\" class=\"data row3 col7\" >0.02</td>\n",
       "                        <td id=\"T_14a41e02_a689_11eb_a460_b883034fb698row3_col8\" class=\"data row3 col8\" >0.03</td>\n",
       "            </tr>\n",
       "            <tr>\n",
       "                        <th id=\"T_14a41e02_a689_11eb_a460_b883034fb698level0_row4\" class=\"row_heading level0 row4\" >minute</th>\n",
       "                        <td id=\"T_14a41e02_a689_11eb_a460_b883034fb698row4_col0\" class=\"data row4 col0\" >-0.01</td>\n",
       "                        <td id=\"T_14a41e02_a689_11eb_a460_b883034fb698row4_col1\" class=\"data row4 col1\" >-0.00</td>\n",
       "                        <td id=\"T_14a41e02_a689_11eb_a460_b883034fb698row4_col2\" class=\"data row4 col2\" >0.00</td>\n",
       "                        <td id=\"T_14a41e02_a689_11eb_a460_b883034fb698row4_col3\" class=\"data row4 col3\" >-0.03</td>\n",
       "                        <td id=\"T_14a41e02_a689_11eb_a460_b883034fb698row4_col4\" class=\"data row4 col4\" >1.00</td>\n",
       "                        <td id=\"T_14a41e02_a689_11eb_a460_b883034fb698row4_col5\" class=\"data row4 col5\" >-0.01</td>\n",
       "                        <td id=\"T_14a41e02_a689_11eb_a460_b883034fb698row4_col6\" class=\"data row4 col6\" >0.00</td>\n",
       "                        <td id=\"T_14a41e02_a689_11eb_a460_b883034fb698row4_col7\" class=\"data row4 col7\" >0.00</td>\n",
       "                        <td id=\"T_14a41e02_a689_11eb_a460_b883034fb698row4_col8\" class=\"data row4 col8\" >-0.00</td>\n",
       "            </tr>\n",
       "            <tr>\n",
       "                        <th id=\"T_14a41e02_a689_11eb_a460_b883034fb698level0_row5\" class=\"row_heading level0 row5\" >day</th>\n",
       "                        <td id=\"T_14a41e02_a689_11eb_a460_b883034fb698row5_col0\" class=\"data row5 col0\" >0.04</td>\n",
       "                        <td id=\"T_14a41e02_a689_11eb_a460_b883034fb698row5_col1\" class=\"data row5 col1\" >-0.01</td>\n",
       "                        <td id=\"T_14a41e02_a689_11eb_a460_b883034fb698row5_col2\" class=\"data row5 col2\" >-0.04</td>\n",
       "                        <td id=\"T_14a41e02_a689_11eb_a460_b883034fb698row5_col3\" class=\"data row5 col3\" >-0.02</td>\n",
       "                        <td id=\"T_14a41e02_a689_11eb_a460_b883034fb698row5_col4\" class=\"data row5 col4\" >-0.01</td>\n",
       "                        <td id=\"T_14a41e02_a689_11eb_a460_b883034fb698row5_col5\" class=\"data row5 col5\" >1.00</td>\n",
       "                        <td id=\"T_14a41e02_a689_11eb_a460_b883034fb698row5_col6\" class=\"data row5 col6\" >-0.01</td>\n",
       "                        <td id=\"T_14a41e02_a689_11eb_a460_b883034fb698row5_col7\" class=\"data row5 col7\" >-0.01</td>\n",
       "                        <td id=\"T_14a41e02_a689_11eb_a460_b883034fb698row5_col8\" class=\"data row5 col8\" >0.00</td>\n",
       "            </tr>\n",
       "            <tr>\n",
       "                        <th id=\"T_14a41e02_a689_11eb_a460_b883034fb698level0_row6\" class=\"row_heading level0 row6\" >season</th>\n",
       "                        <td id=\"T_14a41e02_a689_11eb_a460_b883034fb698row6_col0\" class=\"data row6 col0\" >0.01</td>\n",
       "                        <td id=\"T_14a41e02_a689_11eb_a460_b883034fb698row6_col1\" class=\"data row6 col1\" >0.01</td>\n",
       "                        <td id=\"T_14a41e02_a689_11eb_a460_b883034fb698row6_col2\" class=\"data row6 col2\" >0.00</td>\n",
       "                        <td id=\"T_14a41e02_a689_11eb_a460_b883034fb698row6_col3\" class=\"data row6 col3\" >-0.01</td>\n",
       "                        <td id=\"T_14a41e02_a689_11eb_a460_b883034fb698row6_col4\" class=\"data row6 col4\" >0.00</td>\n",
       "                        <td id=\"T_14a41e02_a689_11eb_a460_b883034fb698row6_col5\" class=\"data row6 col5\" >-0.01</td>\n",
       "                        <td id=\"T_14a41e02_a689_11eb_a460_b883034fb698row6_col6\" class=\"data row6 col6\" >1.00</td>\n",
       "                        <td id=\"T_14a41e02_a689_11eb_a460_b883034fb698row6_col7\" class=\"data row6 col7\" >-0.00</td>\n",
       "                        <td id=\"T_14a41e02_a689_11eb_a460_b883034fb698row6_col8\" class=\"data row6 col8\" >0.04</td>\n",
       "            </tr>\n",
       "            <tr>\n",
       "                        <th id=\"T_14a41e02_a689_11eb_a460_b883034fb698level0_row7\" class=\"row_heading level0 row7\" >time_until_pickup</th>\n",
       "                        <td id=\"T_14a41e02_a689_11eb_a460_b883034fb698row7_col0\" class=\"data row7 col0\" >-0.15</td>\n",
       "                        <td id=\"T_14a41e02_a689_11eb_a460_b883034fb698row7_col1\" class=\"data row7 col1\" >-0.09</td>\n",
       "                        <td id=\"T_14a41e02_a689_11eb_a460_b883034fb698row7_col2\" class=\"data row7 col2\" >0.08</td>\n",
       "                        <td id=\"T_14a41e02_a689_11eb_a460_b883034fb698row7_col3\" class=\"data row7 col3\" >0.02</td>\n",
       "                        <td id=\"T_14a41e02_a689_11eb_a460_b883034fb698row7_col4\" class=\"data row7 col4\" >0.00</td>\n",
       "                        <td id=\"T_14a41e02_a689_11eb_a460_b883034fb698row7_col5\" class=\"data row7 col5\" >-0.01</td>\n",
       "                        <td id=\"T_14a41e02_a689_11eb_a460_b883034fb698row7_col6\" class=\"data row7 col6\" >-0.00</td>\n",
       "                        <td id=\"T_14a41e02_a689_11eb_a460_b883034fb698row7_col7\" class=\"data row7 col7\" >1.00</td>\n",
       "                        <td id=\"T_14a41e02_a689_11eb_a460_b883034fb698row7_col8\" class=\"data row7 col8\" >0.27</td>\n",
       "            </tr>\n",
       "            <tr>\n",
       "                        <th id=\"T_14a41e02_a689_11eb_a460_b883034fb698level0_row8\" class=\"row_heading level0 row8\" >battery_charging</th>\n",
       "                        <td id=\"T_14a41e02_a689_11eb_a460_b883034fb698row8_col0\" class=\"data row8 col0\" >-0.06</td>\n",
       "                        <td id=\"T_14a41e02_a689_11eb_a460_b883034fb698row8_col1\" class=\"data row8 col1\" >0.07</td>\n",
       "                        <td id=\"T_14a41e02_a689_11eb_a460_b883034fb698row8_col2\" class=\"data row8 col2\" >0.08</td>\n",
       "                        <td id=\"T_14a41e02_a689_11eb_a460_b883034fb698row8_col3\" class=\"data row8 col3\" >0.03</td>\n",
       "                        <td id=\"T_14a41e02_a689_11eb_a460_b883034fb698row8_col4\" class=\"data row8 col4\" >-0.00</td>\n",
       "                        <td id=\"T_14a41e02_a689_11eb_a460_b883034fb698row8_col5\" class=\"data row8 col5\" >0.00</td>\n",
       "                        <td id=\"T_14a41e02_a689_11eb_a460_b883034fb698row8_col6\" class=\"data row8 col6\" >0.04</td>\n",
       "                        <td id=\"T_14a41e02_a689_11eb_a460_b883034fb698row8_col7\" class=\"data row8 col7\" >0.27</td>\n",
       "                        <td id=\"T_14a41e02_a689_11eb_a460_b883034fb698row8_col8\" class=\"data row8 col8\" >1.00</td>\n",
       "            </tr>\n",
       "    </tbody></table>"
      ],
      "text/plain": [
       "<pandas.io.formats.style.Styler at 0x7f67489dd128>"
      ]
     },
     "execution_count": 49,
     "metadata": {},
     "output_type": "execute_result"
    }
   ],
   "source": [
    "df_temp[\"season\"]=pd.Categorical(df_temp[\"season\"]).codes\n",
    "df_temp.corr().style.background_gradient(cmap='coolwarm').set_precision(2)"
   ]
  },
  {
   "cell_type": "code",
   "execution_count": 50,
   "metadata": {},
   "outputs": [
    {
     "data": {
      "text/html": [
       "<style  type=\"text/css\" >\n",
       "#T_14e650a6_a689_11eb_a460_b883034fb698row0_col0,#T_14e650a6_a689_11eb_a460_b883034fb698row1_col1,#T_14e650a6_a689_11eb_a460_b883034fb698row2_col2,#T_14e650a6_a689_11eb_a460_b883034fb698row3_col3,#T_14e650a6_a689_11eb_a460_b883034fb698row4_col4,#T_14e650a6_a689_11eb_a460_b883034fb698row5_col5,#T_14e650a6_a689_11eb_a460_b883034fb698row6_col6,#T_14e650a6_a689_11eb_a460_b883034fb698row7_col7,#T_14e650a6_a689_11eb_a460_b883034fb698row8_col8{\n",
       "            background-color:  #b40426;\n",
       "            color:  #f1f1f1;\n",
       "        }#T_14e650a6_a689_11eb_a460_b883034fb698row0_col1,#T_14e650a6_a689_11eb_a460_b883034fb698row0_col2,#T_14e650a6_a689_11eb_a460_b883034fb698row0_col8,#T_14e650a6_a689_11eb_a460_b883034fb698row1_col7,#T_14e650a6_a689_11eb_a460_b883034fb698row2_col0,#T_14e650a6_a689_11eb_a460_b883034fb698row3_col4,#T_14e650a6_a689_11eb_a460_b883034fb698row3_col6,#T_14e650a6_a689_11eb_a460_b883034fb698row4_col3,#T_14e650a6_a689_11eb_a460_b883034fb698row7_col5,#T_14e650a6_a689_11eb_a460_b883034fb698row7_col6{\n",
       "            background-color:  #3b4cc0;\n",
       "            color:  #f1f1f1;\n",
       "        }#T_14e650a6_a689_11eb_a460_b883034fb698row0_col3,#T_14e650a6_a689_11eb_a460_b883034fb698row3_col1,#T_14e650a6_a689_11eb_a460_b883034fb698row3_col7{\n",
       "            background-color:  #6687ed;\n",
       "            color:  #000000;\n",
       "        }#T_14e650a6_a689_11eb_a460_b883034fb698row0_col4,#T_14e650a6_a689_11eb_a460_b883034fb698row1_col5,#T_14e650a6_a689_11eb_a460_b883034fb698row4_col5,#T_14e650a6_a689_11eb_a460_b883034fb698row6_col5{\n",
       "            background-color:  #445acc;\n",
       "            color:  #f1f1f1;\n",
       "        }#T_14e650a6_a689_11eb_a460_b883034fb698row0_col5{\n",
       "            background-color:  #4f69d9;\n",
       "            color:  #000000;\n",
       "        }#T_14e650a6_a689_11eb_a460_b883034fb698row0_col6{\n",
       "            background-color:  #3e51c5;\n",
       "            color:  #f1f1f1;\n",
       "        }#T_14e650a6_a689_11eb_a460_b883034fb698row0_col7,#T_14e650a6_a689_11eb_a460_b883034fb698row5_col7,#T_14e650a6_a689_11eb_a460_b883034fb698row7_col3{\n",
       "            background-color:  #506bda;\n",
       "            color:  #000000;\n",
       "        }#T_14e650a6_a689_11eb_a460_b883034fb698row1_col0{\n",
       "            background-color:  #4e68d8;\n",
       "            color:  #000000;\n",
       "        }#T_14e650a6_a689_11eb_a460_b883034fb698row1_col2{\n",
       "            background-color:  #eb7d62;\n",
       "            color:  #000000;\n",
       "        }#T_14e650a6_a689_11eb_a460_b883034fb698row1_col3,#T_14e650a6_a689_11eb_a460_b883034fb698row6_col4,#T_14e650a6_a689_11eb_a460_b883034fb698row7_col4{\n",
       "            background-color:  #465ecf;\n",
       "            color:  #f1f1f1;\n",
       "        }#T_14e650a6_a689_11eb_a460_b883034fb698row1_col4,#T_14e650a6_a689_11eb_a460_b883034fb698row2_col4,#T_14e650a6_a689_11eb_a460_b883034fb698row8_col4{\n",
       "            background-color:  #455cce;\n",
       "            color:  #f1f1f1;\n",
       "        }#T_14e650a6_a689_11eb_a460_b883034fb698row1_col6,#T_14e650a6_a689_11eb_a460_b883034fb698row6_col3{\n",
       "            background-color:  #4257c9;\n",
       "            color:  #f1f1f1;\n",
       "        }#T_14e650a6_a689_11eb_a460_b883034fb698row1_col8{\n",
       "            background-color:  #5e7de7;\n",
       "            color:  #000000;\n",
       "        }#T_14e650a6_a689_11eb_a460_b883034fb698row2_col1{\n",
       "            background-color:  #ed8366;\n",
       "            color:  #000000;\n",
       "        }#T_14e650a6_a689_11eb_a460_b883034fb698row2_col3{\n",
       "            background-color:  #3c4ec2;\n",
       "            color:  #f1f1f1;\n",
       "        }#T_14e650a6_a689_11eb_a460_b883034fb698row2_col5,#T_14e650a6_a689_11eb_a460_b883034fb698row4_col6{\n",
       "            background-color:  #3f53c6;\n",
       "            color:  #f1f1f1;\n",
       "        }#T_14e650a6_a689_11eb_a460_b883034fb698row2_col6{\n",
       "            background-color:  #4055c8;\n",
       "            color:  #f1f1f1;\n",
       "        }#T_14e650a6_a689_11eb_a460_b883034fb698row2_col7,#T_14e650a6_a689_11eb_a460_b883034fb698row8_col0{\n",
       "            background-color:  #6b8df0;\n",
       "            color:  #000000;\n",
       "        }#T_14e650a6_a689_11eb_a460_b883034fb698row2_col8{\n",
       "            background-color:  #5b7ae5;\n",
       "            color:  #000000;\n",
       "        }#T_14e650a6_a689_11eb_a460_b883034fb698row3_col0{\n",
       "            background-color:  #96b7ff;\n",
       "            color:  #000000;\n",
       "        }#T_14e650a6_a689_11eb_a460_b883034fb698row3_col2{\n",
       "            background-color:  #6f92f3;\n",
       "            color:  #000000;\n",
       "        }#T_14e650a6_a689_11eb_a460_b883034fb698row3_col5,#T_14e650a6_a689_11eb_a460_b883034fb698row5_col3,#T_14e650a6_a689_11eb_a460_b883034fb698row5_col4,#T_14e650a6_a689_11eb_a460_b883034fb698row7_col1{\n",
       "            background-color:  #4358cb;\n",
       "            color:  #f1f1f1;\n",
       "        }#T_14e650a6_a689_11eb_a460_b883034fb698row3_col8{\n",
       "            background-color:  #5572df;\n",
       "            color:  #000000;\n",
       "        }#T_14e650a6_a689_11eb_a460_b883034fb698row4_col0{\n",
       "            background-color:  #7699f6;\n",
       "            color:  #000000;\n",
       "        }#T_14e650a6_a689_11eb_a460_b883034fb698row4_col1{\n",
       "            background-color:  #6485ec;\n",
       "            color:  #000000;\n",
       "        }#T_14e650a6_a689_11eb_a460_b883034fb698row4_col2,#T_14e650a6_a689_11eb_a460_b883034fb698row6_col0{\n",
       "            background-color:  #779af7;\n",
       "            color:  #000000;\n",
       "        }#T_14e650a6_a689_11eb_a460_b883034fb698row4_col7{\n",
       "            background-color:  #5d7ce6;\n",
       "            color:  #000000;\n",
       "        }#T_14e650a6_a689_11eb_a460_b883034fb698row4_col8,#T_14e650a6_a689_11eb_a460_b883034fb698row8_col5{\n",
       "            background-color:  #485fd1;\n",
       "            color:  #f1f1f1;\n",
       "        }#T_14e650a6_a689_11eb_a460_b883034fb698row5_col0{\n",
       "            background-color:  #81a4fb;\n",
       "            color:  #000000;\n",
       "        }#T_14e650a6_a689_11eb_a460_b883034fb698row5_col1{\n",
       "            background-color:  #6384eb;\n",
       "            color:  #000000;\n",
       "        }#T_14e650a6_a689_11eb_a460_b883034fb698row5_col2{\n",
       "            background-color:  #7295f4;\n",
       "            color:  #000000;\n",
       "        }#T_14e650a6_a689_11eb_a460_b883034fb698row5_col6{\n",
       "            background-color:  #3d50c3;\n",
       "            color:  #f1f1f1;\n",
       "        }#T_14e650a6_a689_11eb_a460_b883034fb698row5_col8,#T_14e650a6_a689_11eb_a460_b883034fb698row8_col6{\n",
       "            background-color:  #4a63d3;\n",
       "            color:  #f1f1f1;\n",
       "        }#T_14e650a6_a689_11eb_a460_b883034fb698row6_col1{\n",
       "            background-color:  #688aef;\n",
       "            color:  #000000;\n",
       "        }#T_14e650a6_a689_11eb_a460_b883034fb698row6_col2,#T_14e650a6_a689_11eb_a460_b883034fb698row8_col1{\n",
       "            background-color:  #7a9df8;\n",
       "            color:  #000000;\n",
       "        }#T_14e650a6_a689_11eb_a460_b883034fb698row6_col7{\n",
       "            background-color:  #5875e1;\n",
       "            color:  #000000;\n",
       "        }#T_14e650a6_a689_11eb_a460_b883034fb698row6_col8{\n",
       "            background-color:  #5470de;\n",
       "            color:  #000000;\n",
       "        }#T_14e650a6_a689_11eb_a460_b883034fb698row7_col0{\n",
       "            background-color:  #6c8ff1;\n",
       "            color:  #000000;\n",
       "        }#T_14e650a6_a689_11eb_a460_b883034fb698row7_col2{\n",
       "            background-color:  #86a9fc;\n",
       "            color:  #000000;\n",
       "        }#T_14e650a6_a689_11eb_a460_b883034fb698row7_col8{\n",
       "            background-color:  #bfd3f6;\n",
       "            color:  #000000;\n",
       "        }#T_14e650a6_a689_11eb_a460_b883034fb698row8_col2{\n",
       "            background-color:  #8badfd;\n",
       "            color:  #000000;\n",
       "        }#T_14e650a6_a689_11eb_a460_b883034fb698row8_col3{\n",
       "            background-color:  #536edd;\n",
       "            color:  #000000;\n",
       "        }#T_14e650a6_a689_11eb_a460_b883034fb698row8_col7{\n",
       "            background-color:  #ccd9ed;\n",
       "            color:  #000000;\n",
       "        }</style><table id=\"T_14e650a6_a689_11eb_a460_b883034fb698\" ><thead>    <tr>        <th class=\"blank level0\" ></th>        <th class=\"col_heading level0 col0\" >zoneid</th>        <th class=\"col_heading level0 col1\" >avg_demand</th>        <th class=\"col_heading level0 col2\" >avg_supply</th>        <th class=\"col_heading level0 col3\" >hour</th>        <th class=\"col_heading level0 col4\" >minute</th>        <th class=\"col_heading level0 col5\" >day</th>        <th class=\"col_heading level0 col6\" >season</th>        <th class=\"col_heading level0 col7\" >time_until_pickup</th>        <th class=\"col_heading level0 col8\" >battery_charging</th>    </tr></thead><tbody>\n",
       "                <tr>\n",
       "                        <th id=\"T_14e650a6_a689_11eb_a460_b883034fb698level0_row0\" class=\"row_heading level0 row0\" >zoneid</th>\n",
       "                        <td id=\"T_14e650a6_a689_11eb_a460_b883034fb698row0_col0\" class=\"data row0 col0\" >1.00</td>\n",
       "                        <td id=\"T_14e650a6_a689_11eb_a460_b883034fb698row0_col1\" class=\"data row0 col1\" >-0.16</td>\n",
       "                        <td id=\"T_14e650a6_a689_11eb_a460_b883034fb698row0_col2\" class=\"data row0 col2\" >-0.24</td>\n",
       "                        <td id=\"T_14e650a6_a689_11eb_a460_b883034fb698row0_col3\" class=\"data row0 col3\" >0.10</td>\n",
       "                        <td id=\"T_14e650a6_a689_11eb_a460_b883034fb698row0_col4\" class=\"data row0 col4\" >-0.01</td>\n",
       "                        <td id=\"T_14e650a6_a689_11eb_a460_b883034fb698row0_col5\" class=\"data row0 col5\" >0.03</td>\n",
       "                        <td id=\"T_14e650a6_a689_11eb_a460_b883034fb698row0_col6\" class=\"data row0 col6\" >-0.00</td>\n",
       "                        <td id=\"T_14e650a6_a689_11eb_a460_b883034fb698row0_col7\" class=\"data row0 col7\" >-0.04</td>\n",
       "                        <td id=\"T_14e650a6_a689_11eb_a460_b883034fb698row0_col8\" class=\"data row0 col8\" >-0.05</td>\n",
       "            </tr>\n",
       "            <tr>\n",
       "                        <th id=\"T_14e650a6_a689_11eb_a460_b883034fb698level0_row1\" class=\"row_heading level0 row1\" >avg_demand</th>\n",
       "                        <td id=\"T_14e650a6_a689_11eb_a460_b883034fb698row1_col0\" class=\"data row1 col0\" >-0.16</td>\n",
       "                        <td id=\"T_14e650a6_a689_11eb_a460_b883034fb698row1_col1\" class=\"data row1 col1\" >1.00</td>\n",
       "                        <td id=\"T_14e650a6_a689_11eb_a460_b883034fb698row1_col2\" class=\"data row1 col2\" >0.77</td>\n",
       "                        <td id=\"T_14e650a6_a689_11eb_a460_b883034fb698row1_col3\" class=\"data row1 col3\" >0.00</td>\n",
       "                        <td id=\"T_14e650a6_a689_11eb_a460_b883034fb698row1_col4\" class=\"data row1 col4\" >-0.00</td>\n",
       "                        <td id=\"T_14e650a6_a689_11eb_a460_b883034fb698row1_col5\" class=\"data row1 col5\" >-0.01</td>\n",
       "                        <td id=\"T_14e650a6_a689_11eb_a460_b883034fb698row1_col6\" class=\"data row1 col6\" >0.01</td>\n",
       "                        <td id=\"T_14e650a6_a689_11eb_a460_b883034fb698row1_col7\" class=\"data row1 col7\" >-0.12</td>\n",
       "                        <td id=\"T_14e650a6_a689_11eb_a460_b883034fb698row1_col8\" class=\"data row1 col8\" >0.07</td>\n",
       "            </tr>\n",
       "            <tr>\n",
       "                        <th id=\"T_14e650a6_a689_11eb_a460_b883034fb698level0_row2\" class=\"row_heading level0 row2\" >avg_supply</th>\n",
       "                        <td id=\"T_14e650a6_a689_11eb_a460_b883034fb698row2_col0\" class=\"data row2 col0\" >-0.24</td>\n",
       "                        <td id=\"T_14e650a6_a689_11eb_a460_b883034fb698row2_col1\" class=\"data row2 col1\" >0.77</td>\n",
       "                        <td id=\"T_14e650a6_a689_11eb_a460_b883034fb698row2_col2\" class=\"data row2 col2\" >1.00</td>\n",
       "                        <td id=\"T_14e650a6_a689_11eb_a460_b883034fb698row2_col3\" class=\"data row2 col3\" >-0.03</td>\n",
       "                        <td id=\"T_14e650a6_a689_11eb_a460_b883034fb698row2_col4\" class=\"data row2 col4\" >-0.00</td>\n",
       "                        <td id=\"T_14e650a6_a689_11eb_a460_b883034fb698row2_col5\" class=\"data row2 col5\" >-0.02</td>\n",
       "                        <td id=\"T_14e650a6_a689_11eb_a460_b883034fb698row2_col6\" class=\"data row2 col6\" >0.01</td>\n",
       "                        <td id=\"T_14e650a6_a689_11eb_a460_b883034fb698row2_col7\" class=\"data row2 col7\" >0.05</td>\n",
       "                        <td id=\"T_14e650a6_a689_11eb_a460_b883034fb698row2_col8\" class=\"data row2 col8\" >0.07</td>\n",
       "            </tr>\n",
       "            <tr>\n",
       "                        <th id=\"T_14e650a6_a689_11eb_a460_b883034fb698level0_row3\" class=\"row_heading level0 row3\" >hour</th>\n",
       "                        <td id=\"T_14e650a6_a689_11eb_a460_b883034fb698row3_col0\" class=\"data row3 col0\" >0.10</td>\n",
       "                        <td id=\"T_14e650a6_a689_11eb_a460_b883034fb698row3_col1\" class=\"data row3 col1\" >0.00</td>\n",
       "                        <td id=\"T_14e650a6_a689_11eb_a460_b883034fb698row3_col2\" class=\"data row3 col2\" >-0.03</td>\n",
       "                        <td id=\"T_14e650a6_a689_11eb_a460_b883034fb698row3_col3\" class=\"data row3 col3\" >1.00</td>\n",
       "                        <td id=\"T_14e650a6_a689_11eb_a460_b883034fb698row3_col4\" class=\"data row3 col4\" >-0.04</td>\n",
       "                        <td id=\"T_14e650a6_a689_11eb_a460_b883034fb698row3_col5\" class=\"data row3 col5\" >-0.01</td>\n",
       "                        <td id=\"T_14e650a6_a689_11eb_a460_b883034fb698row3_col6\" class=\"data row3 col6\" >-0.01</td>\n",
       "                        <td id=\"T_14e650a6_a689_11eb_a460_b883034fb698row3_col7\" class=\"data row3 col7\" >0.03</td>\n",
       "                        <td id=\"T_14e650a6_a689_11eb_a460_b883034fb698row3_col8\" class=\"data row3 col8\" >0.04</td>\n",
       "            </tr>\n",
       "            <tr>\n",
       "                        <th id=\"T_14e650a6_a689_11eb_a460_b883034fb698level0_row4\" class=\"row_heading level0 row4\" >minute</th>\n",
       "                        <td id=\"T_14e650a6_a689_11eb_a460_b883034fb698row4_col0\" class=\"data row4 col0\" >-0.01</td>\n",
       "                        <td id=\"T_14e650a6_a689_11eb_a460_b883034fb698row4_col1\" class=\"data row4 col1\" >-0.00</td>\n",
       "                        <td id=\"T_14e650a6_a689_11eb_a460_b883034fb698row4_col2\" class=\"data row4 col2\" >-0.00</td>\n",
       "                        <td id=\"T_14e650a6_a689_11eb_a460_b883034fb698row4_col3\" class=\"data row4 col3\" >-0.04</td>\n",
       "                        <td id=\"T_14e650a6_a689_11eb_a460_b883034fb698row4_col4\" class=\"data row4 col4\" >1.00</td>\n",
       "                        <td id=\"T_14e650a6_a689_11eb_a460_b883034fb698row4_col5\" class=\"data row4 col5\" >-0.01</td>\n",
       "                        <td id=\"T_14e650a6_a689_11eb_a460_b883034fb698row4_col6\" class=\"data row4 col6\" >0.00</td>\n",
       "                        <td id=\"T_14e650a6_a689_11eb_a460_b883034fb698row4_col7\" class=\"data row4 col7\" >0.00</td>\n",
       "                        <td id=\"T_14e650a6_a689_11eb_a460_b883034fb698row4_col8\" class=\"data row4 col8\" >-0.00</td>\n",
       "            </tr>\n",
       "            <tr>\n",
       "                        <th id=\"T_14e650a6_a689_11eb_a460_b883034fb698level0_row5\" class=\"row_heading level0 row5\" >day</th>\n",
       "                        <td id=\"T_14e650a6_a689_11eb_a460_b883034fb698row5_col0\" class=\"data row5 col0\" >0.03</td>\n",
       "                        <td id=\"T_14e650a6_a689_11eb_a460_b883034fb698row5_col1\" class=\"data row5 col1\" >-0.01</td>\n",
       "                        <td id=\"T_14e650a6_a689_11eb_a460_b883034fb698row5_col2\" class=\"data row5 col2\" >-0.02</td>\n",
       "                        <td id=\"T_14e650a6_a689_11eb_a460_b883034fb698row5_col3\" class=\"data row5 col3\" >-0.01</td>\n",
       "                        <td id=\"T_14e650a6_a689_11eb_a460_b883034fb698row5_col4\" class=\"data row5 col4\" >-0.01</td>\n",
       "                        <td id=\"T_14e650a6_a689_11eb_a460_b883034fb698row5_col5\" class=\"data row5 col5\" >1.00</td>\n",
       "                        <td id=\"T_14e650a6_a689_11eb_a460_b883034fb698row5_col6\" class=\"data row5 col6\" >-0.01</td>\n",
       "                        <td id=\"T_14e650a6_a689_11eb_a460_b883034fb698row5_col7\" class=\"data row5 col7\" >-0.04</td>\n",
       "                        <td id=\"T_14e650a6_a689_11eb_a460_b883034fb698row5_col8\" class=\"data row5 col8\" >0.01</td>\n",
       "            </tr>\n",
       "            <tr>\n",
       "                        <th id=\"T_14e650a6_a689_11eb_a460_b883034fb698level0_row6\" class=\"row_heading level0 row6\" >season</th>\n",
       "                        <td id=\"T_14e650a6_a689_11eb_a460_b883034fb698row6_col0\" class=\"data row6 col0\" >-0.00</td>\n",
       "                        <td id=\"T_14e650a6_a689_11eb_a460_b883034fb698row6_col1\" class=\"data row6 col1\" >0.01</td>\n",
       "                        <td id=\"T_14e650a6_a689_11eb_a460_b883034fb698row6_col2\" class=\"data row6 col2\" >0.01</td>\n",
       "                        <td id=\"T_14e650a6_a689_11eb_a460_b883034fb698row6_col3\" class=\"data row6 col3\" >-0.01</td>\n",
       "                        <td id=\"T_14e650a6_a689_11eb_a460_b883034fb698row6_col4\" class=\"data row6 col4\" >0.00</td>\n",
       "                        <td id=\"T_14e650a6_a689_11eb_a460_b883034fb698row6_col5\" class=\"data row6 col5\" >-0.01</td>\n",
       "                        <td id=\"T_14e650a6_a689_11eb_a460_b883034fb698row6_col6\" class=\"data row6 col6\" >1.00</td>\n",
       "                        <td id=\"T_14e650a6_a689_11eb_a460_b883034fb698row6_col7\" class=\"data row6 col7\" >-0.02</td>\n",
       "                        <td id=\"T_14e650a6_a689_11eb_a460_b883034fb698row6_col8\" class=\"data row6 col8\" >0.04</td>\n",
       "            </tr>\n",
       "            <tr>\n",
       "                        <th id=\"T_14e650a6_a689_11eb_a460_b883034fb698level0_row7\" class=\"row_heading level0 row7\" >time_until_pickup</th>\n",
       "                        <td id=\"T_14e650a6_a689_11eb_a460_b883034fb698row7_col0\" class=\"data row7 col0\" >-0.04</td>\n",
       "                        <td id=\"T_14e650a6_a689_11eb_a460_b883034fb698row7_col1\" class=\"data row7 col1\" >-0.12</td>\n",
       "                        <td id=\"T_14e650a6_a689_11eb_a460_b883034fb698row7_col2\" class=\"data row7 col2\" >0.05</td>\n",
       "                        <td id=\"T_14e650a6_a689_11eb_a460_b883034fb698row7_col3\" class=\"data row7 col3\" >0.03</td>\n",
       "                        <td id=\"T_14e650a6_a689_11eb_a460_b883034fb698row7_col4\" class=\"data row7 col4\" >0.00</td>\n",
       "                        <td id=\"T_14e650a6_a689_11eb_a460_b883034fb698row7_col5\" class=\"data row7 col5\" >-0.04</td>\n",
       "                        <td id=\"T_14e650a6_a689_11eb_a460_b883034fb698row7_col6\" class=\"data row7 col6\" >-0.02</td>\n",
       "                        <td id=\"T_14e650a6_a689_11eb_a460_b883034fb698row7_col7\" class=\"data row7 col7\" >1.00</td>\n",
       "                        <td id=\"T_14e650a6_a689_11eb_a460_b883034fb698row7_col8\" class=\"data row7 col8\" >0.37</td>\n",
       "            </tr>\n",
       "            <tr>\n",
       "                        <th id=\"T_14e650a6_a689_11eb_a460_b883034fb698level0_row8\" class=\"row_heading level0 row8\" >battery_charging</th>\n",
       "                        <td id=\"T_14e650a6_a689_11eb_a460_b883034fb698row8_col0\" class=\"data row8 col0\" >-0.05</td>\n",
       "                        <td id=\"T_14e650a6_a689_11eb_a460_b883034fb698row8_col1\" class=\"data row8 col1\" >0.07</td>\n",
       "                        <td id=\"T_14e650a6_a689_11eb_a460_b883034fb698row8_col2\" class=\"data row8 col2\" >0.07</td>\n",
       "                        <td id=\"T_14e650a6_a689_11eb_a460_b883034fb698row8_col3\" class=\"data row8 col3\" >0.04</td>\n",
       "                        <td id=\"T_14e650a6_a689_11eb_a460_b883034fb698row8_col4\" class=\"data row8 col4\" >-0.00</td>\n",
       "                        <td id=\"T_14e650a6_a689_11eb_a460_b883034fb698row8_col5\" class=\"data row8 col5\" >0.01</td>\n",
       "                        <td id=\"T_14e650a6_a689_11eb_a460_b883034fb698row8_col6\" class=\"data row8 col6\" >0.04</td>\n",
       "                        <td id=\"T_14e650a6_a689_11eb_a460_b883034fb698row8_col7\" class=\"data row8 col7\" >0.37</td>\n",
       "                        <td id=\"T_14e650a6_a689_11eb_a460_b883034fb698row8_col8\" class=\"data row8 col8\" >1.00</td>\n",
       "            </tr>\n",
       "    </tbody></table>"
      ],
      "text/plain": [
       "<pandas.io.formats.style.Styler at 0x7f674879f358>"
      ]
     },
     "execution_count": 50,
     "metadata": {},
     "output_type": "execute_result"
    }
   ],
   "source": [
    "df_temp.corr(method=\"spearman\").style.background_gradient(cmap='coolwarm').set_precision(2)"
   ]
  },
  {
   "cell_type": "code",
   "execution_count": 46,
   "metadata": {
    "id": "vnvnydhkugm8"
   },
   "outputs": [],
   "source": [
    "del df_temp"
   ]
  },
  {
   "cell_type": "markdown",
   "metadata": {
    "id": "6rY-6s3cojUM"
   },
   "source": [
    "We notice there is surprisingly little correlation between the different features. But there do seem to be information, such as with battery status and time until pickup. This can make it tough for the model to find a relationship between the features and target. One should be careful putting too much emphasis on the Pearson correlation as the data can be very skewed and non-Gaussian, this is also why Spearmans rank correlation is also shown in the second figure.\n",
    "\n",
    "Before we can use the data for modelling and setting up the graph we need to encode some of the features. For the seasons we use one hot encoding, as there are not many categories. For the time and day we need to be more creative. Here we use a cyclical encoding, this prevents us from getting an excessive number of dimensions. Finally, for the zones we use target encoding, again to make sure we do not end up with an excessive amount of columns."
   ]
  },
  {
   "cell_type": "code",
   "execution_count": 47,
   "metadata": {
    "id": "wGs-1HvycwKV"
   },
   "outputs": [],
   "source": [
    "\n",
    "# Encode car id labels:\n",
    "le = LabelEncoder()\n",
    "df_processed[\"carid\"]=le.fit_transform(df_processed[\"carid\"])\n",
    "\n",
    "# One hot encode season, too large gaps for it to makes sense to do cyclical encoding?\n",
    "enc = OneHotEncoder()\n",
    "season_oh=enc.fit_transform(df_processed[\"season\"].to_numpy().reshape(-1, 1))\n",
    "season_oh = season_oh.toarray()\n",
    "df_processed[\"summer\"] = season_oh[:, 2]\n",
    "df_processed[\"spring\"] = season_oh[:, 1]\n",
    "df_processed[\"autumn\"] = season_oh[:, 0]\n",
    "df_processed[\"winter\"] = season_oh[:, 3]\n",
    "\n",
    "# Cyclical encoding using fourier series for days and hours.\n",
    "def cyclical_encoding(t, max_t):\n",
    "  t_sin=np.sin(2.*np.pi*t/max_t)\n",
    "  t_cos=np.cos(2.*np.pi*t/max_t)\n",
    "  return t_cos, t_sin, t\n",
    "\n",
    "def reverse_cyclical_encoding(value, max_t):\n",
    "    orig_t_sin = max_val*np.arcsin(value)/(2*np.pi)\n",
    "    orig_t_cos = max_val*np.arccos(value)/(2*np.pi)\n",
    "    return orig_t_sin, orig_t_cos\n",
    "\n",
    "df_processed.drop([\"season\"], axis=1, inplace=True)\n",
    "\n",
    "# We convert hours to float hours, i.e. max values is approx 24 as we now can have hour 23.999 etc.\n",
    "hour_cos, hour_sin, _ = cyclical_encoding(df_processed[\"hour\"]+df_processed[\"minute\"]/60.0, 24)\n",
    "day_cos, day_sin, _ = cyclical_encoding(df_processed[\"day\"], 6)\n",
    "\n",
    "df_processed[\"hour_cos\"] = hour_cos\n",
    "df_processed[\"hour_sin\"] = hour_sin\n",
    "df_processed[\"day_cos\"] = day_cos\n",
    "df_processed[\"day_sin\"] = day_sin\n",
    "\n",
    "df_processed.drop([\"hour\", \"day\", \"minute\"], axis=1, inplace=True)"
   ]
  },
  {
   "cell_type": "code",
   "execution_count": 48,
   "metadata": {},
   "outputs": [],
   "source": [
    "label_enc = [[1,0,0,0],[0,1,0,0],[0,0,1,0],[0,0,0,1]]\n",
    "mapping = {}\n",
    "for i in label_enc:\n",
    "    inv_val = enc.inverse_transform([i])\n",
    "    mapping[inv_val[0][0]] = i\n",
    "    \n",
    "df_summer_dict = pd.DataFrame(list(mapping.items()),columns = ['season','encoding']) \n",
    "df_summer_dict.to_csv(path_or_buf = path+\"mappings_season_id.csv\", index=False, header=True)"
   ]
  },
  {
   "cell_type": "markdown",
   "metadata": {
    "id": "gxcOXNojfIkW"
   },
   "source": [
    "For the zone ids we can use target encoding or binary encoding as we have a lot of categorical variables. Cite: https://www.researchgate.net/profile/Kedar-Potdar-2/publication/320465713_A_Comparative_Study_of_Categorical_Variable_Encoding_Techniques_for_Neural_Network_Classifiers/links/59e6f9554585151e5465859c/A-Comparative-Study-of-Categorical-Variable-Encoding-Techniques-for-Neural-Network-Classifiers.pdf\n",
    "\n",
    "Target encoding is chosen as binary encoding can introduce a pattern in the zone ids, which is not desirable."
   ]
  },
  {
   "cell_type": "markdown",
   "metadata": {},
   "source": [
    "30 nodes for testing and 30 nodes for validation are chosen. This is done before the encoding, so the test data does not leak information to the target encoding."
   ]
  },
  {
   "cell_type": "code",
   "execution_count": 49,
   "metadata": {},
   "outputs": [],
   "source": [
    "vehicle_ids = np.unique(df_processed[\"carid\"])\n",
    "rnodes = np.random.choice(vehicle_ids, size=60, replace=False) \n",
    "test_nodes = rnodes[0:30]\n",
    "val_nodes = rnodes[30:]"
   ]
  },
  {
   "cell_type": "code",
   "execution_count": 50,
   "metadata": {
    "colab": {
     "base_uri": "https://localhost:8080/"
    },
    "id": "aQoeGeKcdXI1",
    "outputId": "5715c7cf-652f-404d-fd13-d0c5194ff505"
   },
   "outputs": [
    {
     "name": "stderr",
     "output_type": "stream",
     "text": [
      "/work1/s146996/jupyter_notebook/jupyter_env/lib/python3.6/site-packages/category_encoders/utils.py:21: FutureWarning: is_categorical is deprecated and will be removed in a future version.  Use is_categorical_dtype instead\n",
      "  elif pd.api.types.is_categorical(cols):\n"
     ]
    }
   ],
   "source": [
    "import category_encoders as ce\n",
    "df_processed[\"zoneid\"] = df_processed[\"zoneid\"].astype('str')\n",
    "df_processed.loc[:,\"time_until_pickup_minutes\"]=df_processed[\"time_until_pickup\"].dt.total_seconds()/60\n",
    "\n",
    "binary_enc = False\n",
    "# https://contrib.scikit-learn.org/category_encoders/\n",
    "if binary_enc:\n",
    "  encoder= ce.BinaryEncoder(cols=['zoneid'], return_df=True)\n",
    "  df_processed=encoder.fit_transform(df_processed) \n",
    "  #encoder.base_n_encoder.mapping[0][\"mapping\"]\n",
    "  #encoder.inverse_transform(df_processed)\n",
    "else:\n",
    "  #Feature encoding, leave one out hot encoding\n",
    "  df_temp_train = df_processed[~df_processed[\"carid\"].isin(test_nodes)].copy()\n",
    "  encoder = ce.leave_one_out.LeaveOneOutEncoder(cols=['zoneid'], return_df=True)\n",
    "  encoder.fit(df_temp_train[[\"zoneid\"]], df_temp_train[[\"time_until_pickup_minutes\"]] ) \n",
    "  df_processed[\"zoneid\"]=encoder.transform(df_processed[[\"zoneid\"]], df_processed[[\"time_until_pickup_minutes\"]])\n",
    "  mapping = encoder.mapping[\"zoneid\"]\n",
    "  mapping.to_csv(path_or_buf = path+\"mappings_zone_id.csv\", header=True)\n",
    "\n"
   ]
  },
  {
   "cell_type": "code",
   "execution_count": 51,
   "metadata": {},
   "outputs": [],
   "source": [
    "# Store val/test nodes\n",
    "torch.save(torch.tensor(val_nodes), path + \"val_nodes.pt\")\n",
    "torch.save(torch.tensor(test_nodes), path + \"test_nodes.pt\")"
   ]
  },
  {
   "cell_type": "markdown",
   "metadata": {
    "id": "yNL0YQaDuWru"
   },
   "source": [
    "As seen all the relevant variables are now encoded. The start and end times will not be stored in the graph and is left as is."
   ]
  },
  {
   "cell_type": "markdown",
   "metadata": {
    "id": "ke_EyncRimKo"
   },
   "source": [
    "### Making the graph"
   ]
  },
  {
   "cell_type": "markdown",
   "metadata": {
    "id": "0ZwtVLBnqW_T"
   },
   "source": [
    "First we define the function to calculate the edge attributes. As we work with longitudes and latitudes we use Haversines formula, https://www.movable-type.co.uk/scripts/latlong.html. "
   ]
  },
  {
   "cell_type": "code",
   "execution_count": 53,
   "metadata": {
    "id": "6o12H-7IqXVv"
   },
   "outputs": [],
   "source": [
    "from math import sin, cos, sqrt, atan2, asin, radians\n",
    "def coords_to_distance(coords):\n",
    "  # Get the distance in meters from pair of lat, lon.\n",
    "  \n",
    "  R = 6371e3 #Earth radius in meters\n",
    "\n",
    "  lat1, lon1, lat2, lon2 = map(radians, coords)\n",
    "\n",
    "  dlon = lon2 - lon1\n",
    "  dlat = lat2 - lat1\n",
    "\n",
    "  a = sin(dlat / 2)**2 + cos(lat1) * cos(lat2) * sin(dlon / 2)**2\n",
    "  c = 2 * atan2(sqrt(a), sqrt(1 - a))\n",
    "\n",
    "  distance = R * c\n",
    "  return distance\n",
    "\n"
   ]
  },
  {
   "cell_type": "markdown",
   "metadata": {
    "id": "nVcb8f1dtHRA"
   },
   "source": [
    "Making the graphs can be tricky, we need to consider the time component. There can be several strategies how to make the graphs. The strategy chosen here is to use a snapshot, i.e. we look at data that is within two time intervals time $t_0 \\leq t_{start}+t_{\\Delta} < t_1$. We then store the data at time $t_{start}+t_{\\Delta}$, which is our current time, and calculate the relevant features for that given time, such as battery status. All data within the time interval will then be connected. Nodes are unique cars with a feature vector assigned. Target is the pickup time for each node. Edges are created between nodes, all edges are undirected and weighted. An edge is only created between cars being at less or equal to some user specified distance. This is done to reduce the memory consumption of the model and the complexity of the graph. The snapshot strategy has a few issues, first we take the snapshots in discrete time steps, as such we might not capture all data considering what $t_{\\Delta}$ is specified as. In this report we use $t_{\\Delta}=1$ hour. As such, we might skip pickup waiting time that are very short as both the start time $t_0$ and $t_1$ is less than $t_{start}+t_{\\Delta}$ but higher than the previous $t_1$. This can give a bias in the data, as longer pick-up times have a larger interval and are more likely to be chosen. A reason to why we do not make a new graph for every new data entry is that it would create too many graphs and make the data loader tediously slow."
   ]
  },
  {
   "cell_type": "markdown",
   "metadata": {
    "id": "rSxqYIYM2aO_"
   },
   "source": [
    "Before standardizing and transforming, we make the minimum time before pickup to 5 seconds. We assume it does not matter much if it takes 5 seconds or 0 seconds before the car is picked up, but it does allow us to make simple transformations of the target value"
   ]
  },
  {
   "cell_type": "code",
   "execution_count": 54,
   "metadata": {
    "id": "yipIVPaV4Pp_"
   },
   "outputs": [],
   "source": [
    "bools_time = (df_processed[\"time_until_pickup\"].dt.total_seconds())<5\n",
    "df_processed.loc[bools_time,\"time_until_pickup\"]+=timedelta(seconds=5)\n",
    "df_processed.loc[bools_time,\"end_parking\"]+=pd.DateOffset(seconds=5)\n",
    "# Still no data overlapping, checked."
   ]
  },
  {
   "cell_type": "code",
   "execution_count": null,
   "metadata": {},
   "outputs": [],
   "source": [
    "df_processed.to_csv(path_or_buf =path+\"drivenow_processed.csv\", index=False, header=True, date_format=\"%Y-%m-%d %H:%M:%S\")"
   ]
  },
  {
   "cell_type": "markdown",
   "metadata": {
    "id": "BRdhNyYEuFeX"
   },
   "source": [
    "We then start by initialising the variables."
   ]
  },
  {
   "cell_type": "code",
   "execution_count": 55,
   "metadata": {
    "colab": {
     "base_uri": "https://localhost:8080/"
    },
    "id": "7PhcJMkcoT4z",
    "outputId": "323ea46a-222d-42b1-d8e2-d9c9bdebdfb7"
   },
   "outputs": [
    {
     "name": "stdout",
     "output_type": "stream",
     "text": [
      "{'carid': 0, 'latitude': 1, 'longitude': 2, 'end_parking': 3, 'start_parking': 4, 'battery_status_end': 5, 'zoneid': 6, 'avg_demand': 7, 'avg_supply': 8, 'time_until_pickup': 9, 'battery_charging': 10, 'summer': 11, 'spring': 12, 'autumn': 13, 'winter': 14, 'hour_cos': 15, 'hour_sin': 16, 'day_cos': 17, 'day_sin': 18, 'time_until_pickup_minutes': 19}\n"
     ]
    }
   ],
   "source": [
    "\n",
    "#every t_step seconds we update the graph, 60 mins will leave us with approx 280 days * 24 hours ~ 6700 graphs\n",
    "t_step = interval\n",
    "stop = False\n",
    "debug = False\n",
    "current_time = 0\n",
    "max_time=(df_processed[\"end_parking\"].max()-df_processed[\"start_parking\"].min()).total_seconds() + 60*60\n",
    "n=0\n",
    "total_iter = max_time // t_step\n",
    "df_graph = df_processed.copy()\n",
    "# Just to keep track of things and improve readability\n",
    "track={}\n",
    "k=0\n",
    "for i in df_processed.columns:\n",
    "  track[i]=k\n",
    "  k+=1\n",
    "print(track)\n",
    "if binary_enc:\n",
    "    get_ind_vars = [track['battery_status_end'],track['zoneid_0'], track['zoneid_1'],track['zoneid_2'],\n",
    "     track['zoneid_3'],track['zoneid_4'],track['zoneid_5'],track['zoneid_6'],track['zoneid_7'],\n",
    "     track['avg_demand'],track['avg_supply'],\n",
    "     track['summer'],track['spring'],track['autumn'],track['winter'],\n",
    "     track['hour_cos'],track['hour_sin'],track['day_cos'],track['day_sin']]\n",
    "else:\n",
    "    get_ind_vars = [track['battery_status_end'], track['zoneid'],track['avg_demand'],\n",
    "    track['avg_supply'],track['summer'],track['spring'],track['autumn'],track['winter'],\n",
    "     track['hour_cos'],track['hour_sin'],track['day_cos'],track['day_sin']]\n",
    "get_dep_vars = track['time_until_pickup']  \n",
    "get_coords= [track[\"latitude\"],track[\"longitude\"]]\n",
    "# Create folder for raw files.\n",
    "if not osp.exists(path+\"raw\"):\n",
    "    os.makedirs(path+\"raw\")"
   ]
  },
  {
   "cell_type": "markdown",
   "metadata": {
    "id": "Bs_B4wkagRxJ"
   },
   "source": [
    "We make the graph function. One might notice there is a mask. This is mask is used for two things, one is to divide the nodes into training, validation, and testing. For node regression or classification we do not split the data up as you would in an euclidean setting. In geometric data we look at nodes and as such we want to keep some nodes seperated from the training data to avoid leakage into the validation and test sets. We use around 10% of the nodes for both the test and validation set."
   ]
  },
  {
   "cell_type": "code",
   "execution_count": 56,
   "metadata": {
    "id": "_cTKPZfCOK2o"
   },
   "outputs": [],
   "source": [
    "def create_graph(data_temp, idx, path):\n",
    "\n",
    "  # set the minimum distance of a connected edge\n",
    "  min_dist = 1000\n",
    "  edge_index = []\n",
    "  edge_attr = []\n",
    "  node_feature = []\n",
    "  node_target = []\n",
    "  # Mask is used to filter away \"empty nodes\"\n",
    "  mask_target = []\n",
    "\n",
    "  new_dict_key = 0\n",
    "  data = {}\n",
    "  for k, v in data_temp.items():\n",
    "    if v.size != 0:\n",
    "      data[new_dict_key] = v\n",
    "      new_dict_key +=1\n",
    "  \n",
    "  \n",
    "  for i in data.keys():\n",
    "    i_data = data[i]\n",
    "    if data[i].size == 0:\n",
    "      continue\n",
    "\n",
    "    for j in data.keys():\n",
    "      if i==j:\n",
    "        # we don't care about the edge to the node itself.\n",
    "        continue\n",
    "      elif j<i:\n",
    "        # we don't care about nodes we already iterated through.\n",
    "        continue\n",
    "      elif data[j].size == 0:\n",
    "        # We don't care about empty nodes\n",
    "        continue\n",
    "      else:\n",
    "        j_data = data[j]\n",
    "        # Get distance in meters\n",
    "        coords = i_data[get_coords].tolist() + j_data[get_coords].tolist()\n",
    "        # Weight edge attribute by min_dist\n",
    "        calc_attr = coords_to_distance(coords) / min_dist\n",
    "        # Make edge\n",
    "        if calc_attr <= 1.0:\n",
    "          from_id = i\n",
    "          to_id = j\n",
    "          # Store carids, edge is from carid and to carid, undirected.\n",
    "          edge_index.append([from_id, to_id])\n",
    "          edge_index.append([to_id, from_id])\n",
    "          # Get edge weights\n",
    "          edge_attr.append(calc_attr)\n",
    "          edge_attr.append(calc_attr)\n",
    "\n",
    "    # Get features\n",
    "    node_feature.append(i_data[get_ind_vars])\n",
    "    target_minutes = i_data[get_dep_vars].total_seconds()/60\n",
    "\n",
    "    # Mask values:\n",
    "    # 1 = training\n",
    "    # 2 = validation\n",
    "    # 3 = test\n",
    "    if i in val_nodes:\n",
    "      mask_target.append(2)\n",
    "    elif i in test_nodes:\n",
    "      mask_target.append(3)\n",
    "    else:\n",
    "      mask_target.append(1)\n",
    "\n",
    "    node_target.append(target_minutes)\n",
    "\n",
    "  #Convert to tensor\n",
    "  edge_index=torch.tensor(edge_index, dtype=torch.long).t().contiguous()\n",
    "  edge_attrs=torch.tensor(edge_attr, dtype=torch.float).view(-1, 1) # Added view to take into account edge feature dimensions\n",
    "  node_feature=torch.tensor(node_feature, dtype=torch.float)\n",
    "  node_target=torch.tensor(node_target, dtype=torch.float)\n",
    "  mask_target = torch.tensor(mask_target, dtype=torch.int)\n",
    "\n",
    "  # Save graph\n",
    "  graph=Data(x=node_feature, y=node_target, edge_index=edge_index, edge_attr=edge_attrs, mask=mask_target)\n",
    "  torch.save(graph, osp.join(path + \"raw\", 'data_{}.pt'.format(idx)))\n",
    "  return graph"
   ]
  },
  {
   "cell_type": "markdown",
   "metadata": {},
   "source": [
    "The function \"create_graph_empty_nodes\" is also implemented, this was done to experiment to see if the ordering of the edges had an impact on the GNNs, which did not seem to be the case, as long as it was assigned the proper corresponding node features. Therefore the function is redundant, but still included. The mask can also be used for avoiding using what we call \"empty nodes\" in the graph. Empty nodes are nodes with only 0 values, they are used to pad the graph so we get target values that do not vary in size. With empty nodes the target distribution will always contain number of elements equal to number of unique cars (346) and with the mask we can avoid using them when backpropagating the network. It also enable a fixed edge ID, that means the edge contains a start and an end, indicated by the node ID, with empty nodes the ID of the edge is always fixed to match the car ID. The edges will be stored using a sparse format, so we do not use excessive memory on the 0 values in an adjacency matrix."
   ]
  },
  {
   "cell_type": "code",
   "execution_count": null,
   "metadata": {},
   "outputs": [],
   "source": [
    "def create_graph_empty_nodes(data, idx, path):\n",
    "\n",
    "  n=len(data)\n",
    "  # set the minimum distance of a connected edge\n",
    "  min_dist = 1000\n",
    "  edge_index = []\n",
    "  edge_attr = []\n",
    "  node_feature = []\n",
    "  node_target = []\n",
    "  # Mask is used to filter away \"empty nodes\"\n",
    "  mask_target = []\n",
    "\n",
    "  for i in data.keys():\n",
    "    i_data = data[i]\n",
    "    \n",
    "    if data[i].size == 0:\n",
    "      # Fix\n",
    "      mask_target.append(0)\n",
    "      node_feature.append([0]*len(get_ind_vars))\n",
    "      node_target.append(0)\n",
    "      continue\n",
    "\n",
    "    for j in data.keys():\n",
    "      if i==j:\n",
    "        # we don't care about the edge to the node itself.\n",
    "        continue\n",
    "      elif j<i:\n",
    "        # we don't care about nodes we already iterated through.\n",
    "        continue\n",
    "      elif data[j].size == 0:\n",
    "        # We don't care about empty nodes\n",
    "        continue\n",
    "      else:\n",
    "        j_data = data[j]\n",
    "        # Get distance in meters\n",
    "        coords = i_data[get_coords].tolist() + j_data[get_coords].tolist()\n",
    "        # Weight edge attribute by min_dist\n",
    "        calc_attr = coords_to_distance(coords) / min_dist\n",
    "        # Make edge\n",
    "        if calc_attr <= 1.0:\n",
    "          from_id = i\n",
    "          to_id = j\n",
    "          # Store carids, edge is from carid and to carid, undirected.\n",
    "          edge_index.append([from_id, to_id])\n",
    "          edge_index.append([to_id, from_id])\n",
    "          # Get edge weights\n",
    "          edge_attr.append(calc_attr)\n",
    "          edge_attr.append(calc_attr)\n",
    "\n",
    "    # Get features\n",
    "    node_feature.append(i_data[get_ind_vars])\n",
    "    target_minutes = i_data[get_dep_vars].total_seconds()/60\n",
    "\n",
    "    # Mask values:\n",
    "    # 0 = empty node\n",
    "    # 1 = training\n",
    "    # 2 = validation\n",
    "    # 3 = test\n",
    "    if i in val_nodes:\n",
    "      mask_target.append(2)\n",
    "    elif i in test_nodes:\n",
    "      mask_target.append(3)\n",
    "    else:\n",
    "      mask_target.append(1)\n",
    "\n",
    "    node_target.append(target_minutes)\n",
    "  #Convert to tensor\n",
    "  edge_index=torch.tensor(edge_index, dtype=torch.long).t().contiguous()\n",
    "  edge_attrs=torch.tensor(edge_attr, dtype=torch.float).view(-1, 1)\n",
    "  node_feature=torch.tensor(node_feature, dtype=torch.float)\n",
    "  node_target=torch.tensor(node_target, dtype=torch.float)\n",
    "  mask_target = torch.tensor(mask_target, dtype=torch.int)\n",
    "\n",
    "  # Save graph\n",
    "  graph=Data(x=node_feature, y=node_target, edge_index=edge_index, edge_attr=edge_attrs, mask=mask_target)\n",
    "  torch.save(graph, osp.join(path + \"raw_empty_nodes\", 'data_{}.pt'.format(idx)))\n",
    "  return graph"
   ]
  },
  {
   "cell_type": "markdown",
   "metadata": {
    "id": "UggbYPNtgUrd"
   },
   "source": [
    "We now make the function to snapshot the data to make a graph at time t. Warning: the code below takes around 40 minutes when using 1 hour intervals and a minimum distance of 1 km."
   ]
  },
  {
   "cell_type": "code",
   "execution_count": 57,
   "metadata": {
    "colab": {
     "base_uri": "https://localhost:8080/"
    },
    "id": "iinh1ND0wDDQ",
    "outputId": "9c27be90-ba05-42a2-a9a5-6d6407f67bc9"
   },
   "outputs": [
    {
     "name": "stdout",
     "output_type": "stream",
     "text": [
      "Approx. 0 percent processed\n",
      "Approx. 14 percent processed\n",
      "Approx. 29 percent processed\n",
      "Approx. 44 percent processed\n",
      "Approx. 59 percent processed\n",
      "Approx. 74 percent processed\n",
      "Approx. 89 percent processed\n",
      "2018-05-08 15:11:25\n",
      "Done\n"
     ]
    }
   ],
   "source": [
    "'''\n",
    " Worst time complexity O(N^3).Takes around 40 minutes and can use a decent \n",
    " amount of space depending on min_dist in create_graph.\n",
    "'''\n",
    "# Our reference time\n",
    "start = df_processed[\"start_parking\"].min()\n",
    "# The time car i is picked up, the end of parking\n",
    "t1 = df_processed[\"end_parking\"]\n",
    "# The start time of the parking for car i\n",
    "t0 = df_processed[\"start_parking\"]\n",
    "\n",
    "while stop == False:\n",
    "  # We will use dictionaries to get the relevant information for the graph\n",
    "  veh_info = {vehicle_ids[id]:np.asarray([]) for id in vehicle_ids}\n",
    "\n",
    "  if not n % 1000:\n",
    "    print(\"Approx. %d percent processed\" % (((n+1)/total_iter)*100))\n",
    "  \n",
    "  # The time step\n",
    "  tdelta = pd.to_timedelta(current_time*10e8)\n",
    "\n",
    "  # The current reference point, we move tdelta into the future.\n",
    "  current_date = start +  tdelta\n",
    "\n",
    "  # Choose data that are within the time interval, there can never be more than 1 entry for each car \n",
    "  #(otherwise dates would overlap, e.g. it would be parked two places at once).\n",
    "  within_interval = (t0 <= current_date) & (current_date < t1)\n",
    "\n",
    "  # Take a snapshot of the data\n",
    "  snapshot_dt = df_graph.loc[within_interval].copy()\n",
    "\n",
    "  # get time_until_pickup relative to current date\n",
    "  snapshot_dt['time_until_pickup'] = (t1-current_date)[within_interval]\n",
    "\n",
    "  # Find the charge level of a battery\n",
    "  id_inc_battery=(snapshot_dt['battery_charging']==1)\n",
    "  # If any batteries are charging then get battery status relative to current date (time it has been charging)\n",
    "  if id_inc_battery.sum() > 0:\n",
    "    time_parked_seconds = (current_date-snapshot_dt.loc[id_inc_battery,'start_parking']).dt.total_seconds()\n",
    "    charged = 100*time_parked_seconds/(avg_percent_charge*60*60) + snapshot_dt.loc[id_inc_battery, 'battery_status_end']\n",
    "    charged[charged>100] = 100\n",
    "    snapshot_dt.loc[id_inc_battery, 'battery_status_end'] = charged\n",
    "\n",
    "  # Update encodings relative to current date. \n",
    "  hour_cos, hour_sin, _ = cyclical_encoding(current_date.hour + current_date.minute/60.0, 24)\n",
    "  day_cos, day_sin, _ = cyclical_encoding(current_date.weekday(), 6)\n",
    "\n",
    "  snapshot_dt['hour_cos']=hour_cos\n",
    "  snapshot_dt['hour_sin']=hour_sin\n",
    "  snapshot_dt['day_cos']=day_cos\n",
    "  snapshot_dt['day_sin']=day_sin\n",
    "\n",
    "  # Store snapshot in veh_info\n",
    "  for i in snapshot_dt.values:\n",
    "    veh_info[i[track['carid']]] = i\n",
    "\n",
    "  # Get the graph, but first after 24 hours, as the amount of cars is quite sparse in the first iterations. \n",
    "  if n > 23:\n",
    "    #graph = create_graph(veh_info, n, path)\n",
    "    graph = create_graph(veh_info, n, path)\n",
    "\n",
    "  n+=1\n",
    "  # Update time by moving 1 hour into the future.\n",
    "  current_time += t_step\n",
    "  \n",
    "  # We end at 6700 as the data above this time is very sparse\n",
    "  if n>6700 or current_time > max_time: \n",
    "    print(current_date)\n",
    "    stop = True\n",
    "    print(\"Done\")"
   ]
  }
 ],
 "metadata": {
  "accelerator": "GPU",
  "colab": {
   "collapsed_sections": [],
   "name": "DriveNow_Trips_Preprocessing_(15) (1).ipynb",
   "provenance": []
  },
  "kernelspec": {
   "display_name": "Python 3",
   "language": "python",
   "name": "python3"
  },
  "language_info": {
   "codemirror_mode": {
    "name": "ipython",
    "version": 3
   },
   "file_extension": ".py",
   "mimetype": "text/x-python",
   "name": "python",
   "nbconvert_exporter": "python",
   "pygments_lexer": "ipython3",
   "version": "3.6.8"
  }
 },
 "nbformat": 4,
 "nbformat_minor": 1
}
